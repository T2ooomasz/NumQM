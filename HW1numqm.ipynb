{
 "cells": [
  {
   "cell_type": "markdown",
   "metadata": {},
   "source": [
    "# Q.1 Finding inverses.\n",
    "Newton's method\n",
    "```math\n",
    "x_{n+1} = x_n - \\frac{f(x_n)}{f'(x_n)}\n",
    "```\n",
    "our function is:\n",
    "```math\n",
    "f(x) = \\frac{1}{x} - a = 0\n",
    "```\n",
    "```math\n",
    "f'(x) = -\\frac{1}{x^2}\n",
    "```\n",
    "then the Newton's method becomes\n",
    "```math\n",
    "x_{n+1} = x_n - \\frac{\\frac{1}{x_n} - a}{-\\frac{1}{x_n^2}}\n",
    "```\n",
    "```math\n",
    "x_{n+1} = x_n + x_n^2 \\cdot (\\frac{1}{x_n} - a)\n",
    "```\n",
    "```math\n",
    "x_{n+1} = x_n + x_n  - a \\cdot x_n\n",
    "```\n",
    "```math\n",
    "x_{n+1} = x_n \\cdot(2 - a x_n)\n",
    "```"
   ]
  },
  {
   "cell_type": "code",
   "execution_count": 1,
   "metadata": {
    "dotnet_interactive": {
     "language": "csharp"
    },
    "polyglot_notebook": {
     "kernelName": "csharp"
    }
   },
   "outputs": [
    {
     "data": {
      "text/plain": [
       "inverses (generic function with 1 method)"
      ]
     },
     "execution_count": 1,
     "metadata": {},
     "output_type": "execute_result"
    }
   ],
   "source": [
    "function inverses(x_n, a, NMAX)\n",
    "    if NMAX <= 0 return x_n end\n",
    "    inverses((x_n*(2-a*x_n)), a, NMAX-1)\n",
    "end"
   ]
  },
  {
   "cell_type": "code",
   "execution_count": 2,
   "metadata": {},
   "outputs": [
    {
     "name": "stdout",
     "output_type": "stream",
     "text": [
      "[10.0, 10.0]\n"
     ]
    }
   ],
   "source": [
    "x = 0.001\n",
    "a = 0.1\n",
    "NMAX = 1000\n",
    "println([inverses(x, a, NMAX), 1/a])"
   ]
  },
  {
   "cell_type": "markdown",
   "metadata": {},
   "source": [
    "# Inverse of a matrix"
   ]
  },
  {
   "cell_type": "code",
   "execution_count": 3,
   "metadata": {},
   "outputs": [
    {
     "data": {
      "text/plain": [
       "inverses_matrix (generic function with 1 method)"
      ]
     },
     "execution_count": 3,
     "metadata": {},
     "output_type": "execute_result"
    }
   ],
   "source": [
    "function inverses_matrix(a, NMAX)\n",
    "    I = zeros(size(a))\n",
    "    for i in 1:size(a, 1) I[i, i] = 1 end\n",
    "    x_n = 1/100 * a\n",
    "    function inverses_matrix_internal(x_n, a, I, NMAX)\n",
    "        if NMAX <= 0 return x_n end\n",
    "        inverses_matrix_internal((x_n * (2 * I - a * x_n)), a, I, NMAX-1)\n",
    "    end\n",
    "    return inverses_matrix_internal(x_n, a, I, NMAX)\n",
    "end"
   ]
  },
  {
   "cell_type": "code",
   "execution_count": 4,
   "metadata": {},
   "outputs": [
    {
     "data": {
      "text/plain": [
       "2×2 Array{Float64,2}:\n",
       "  0.111896  -0.0424628\n",
       " -0.474618   0.960313 "
      ]
     },
     "metadata": {},
     "output_type": "display_data"
    },
    {
     "data": {
      "text/plain": [
       "2×2 Array{Float64,2}:\n",
       "  0.111896  -0.0424628\n",
       " -0.474618   0.960313 "
      ]
     },
     "metadata": {},
     "output_type": "display_data"
    },
    {
     "data": {
      "text/plain": [
       "2×2 Array{Float64,2}:\n",
       "  1.0          0.0\n",
       " -8.88178e-16  1.0"
      ]
     },
     "metadata": {},
     "output_type": "display_data"
    }
   ],
   "source": [
    "A = [11 0.486395; 5.43656 1.28172]\n",
    "NMAX = 100\n",
    "\n",
    "display(inverses_matrix(A, NMAX))\n",
    "display(inv(A))\n",
    "display(inverses_matrix(A, NMAX) * A)"
   ]
  },
  {
   "cell_type": "markdown",
   "metadata": {},
   "source": [
    "I spent so much time at this looking for errors, and it tourn out to be that choise of X is that important, not only A!"
   ]
  },
  {
   "cell_type": "markdown",
   "metadata": {},
   "source": [
    "# Q.2 Complex **i** as a 2x2 matrix."
   ]
  },
  {
   "cell_type": "code",
   "execution_count": 5,
   "metadata": {
    "dotnet_interactive": {
     "language": "csharp"
    },
    "polyglot_notebook": {
     "kernelName": "csharp"
    }
   },
   "outputs": [
    {
     "name": "stdout",
     "output_type": "stream",
     "text": [
      "-1 + 0i\n",
      "-0.9999999999999999 + 2.351274992194946e-16i\n",
      "1.501337291432472e-16 + 1.0i\n"
     ]
    }
   ],
   "source": [
    "imat = [ 0 -1; 1 0 ]\n",
    "function print_imat(f)\n",
    "    println(f[1,1], \" + \", f[2, 1], \"i\")\n",
    "end\n",
    "print_imat(imat^2)\n",
    "print_imat(exp(imat * pi))\n",
    "print_imat(exp(imat * pi / 2))"
   ]
  },
  {
   "cell_type": "code",
   "execution_count": 12,
   "metadata": {},
   "outputs": [
    {
     "data": {
      "text/plain": [
       "2×2 Array{Complex{Int64},2}:\n",
       " 0+0im  0-1im\n",
       " 0+1im  0+0im"
      ]
     },
     "execution_count": 12,
     "metadata": {},
     "output_type": "execute_result"
    }
   ],
   "source": [
    "(@isdefined σ₁) ? (isapprox(Main.σ₁, [0 1; 1 0]) ? println(\"σ₁ defined properly in Julia\") : const σ₁ = [0 1; 1 0]) : const σ₂ = [0 -im; im 0]\n"
   ]
  },
  {
   "cell_type": "markdown",
   "metadata": {},
   "source": [
    "# Q.3 Pauli matrices"
   ]
  },
  {
   "cell_type": "code",
   "execution_count": null,
   "metadata": {},
   "outputs": [
    {
     "ename": "UndefVarError",
     "evalue": "\u001b[91mUndefVarError: σ₁ not defined\u001b[39m",
     "output_type": "error",
     "traceback": [
      "\u001b[91mUndefVarError: σ₁ not defined\u001b[39m",
      "",
      "Stacktrace:",
      " [1] getproperty(::Module, ::Symbol) at .\\sysimg.jl:13",
      " [2] top-level scope at In[14]:3"
     ]
    }
   ],
   "source": [
    "using LinearAlgebra\n",
    "using Random\n",
    "\n",
    "# Define Pauli matrices - are predefined in Julia\n",
    "@isdefined σ₁ ? (isapprox(Main.σ₁, [0 1; 1 0]) ? println(\"σ₁ defined properly in Julia\") : const σ₁ = [0 1; 1 0]) : const σ₂ = [0 -im; im 0]\n",
    "\n",
    "isapprox(Main.σ₂, [0 -im; im 0]) ? println(\"σ₂ defined properly in Julia\") : const σ₂ = [0 -im; im 0]\n",
    "isapprox(Main.σ₃, [1 0; 0 -1]) ? println(\"σ₃ defined properly in Julia\") : const σ₃ = [1 0; 0 -1]\n",
    "#isapprox(Main.σ, [σ₁, σ₂, σ₃]) ? println(\"σ defined properly in Julia\") : const σ = [Main.σ₁, Main.σ₂, Main.σ₃]\n",
    "const σ = [σ₁, σ₂, σ₃]  # Array of Pauli matrices\n",
    "\n",
    "# Part (a): Verify the relations\n",
    "function verify_relation_1(a::Vector{Float64}, b::Vector{Float64})\n",
    "    # Compute (σ · a) and (σ · b)\n",
    "    σ_dot_a = sum(ai * σi for (ai, σi) in zip(a, σ))\n",
    "    σ_dot_b = sum(bi * σi for (bi, σi) in zip(b, σ))\n",
    "    \n",
    "    # Compute the left and right-hand sides of the relation\n",
    "    lhs = σ_dot_a * σ_dot_b\n",
    "    rhs = (dot(a, b) * I(2)) + im * sum((cross(a, b)[i] * σ[i]) for i in 1:3)\n",
    "    \n",
    "    return isapprox(lhs, rhs) # check equality\n",
    "end\n",
    "\n",
    "function compute_D(ϕ::Float64, n::Vector{Float64})\n",
    "    # Compute the SU(2) matrix\n",
    "    σ_dot_n = sum(ni * σi for (ni, σi) in zip(n, σ))\n",
    "    D = cos(ϕ / 2) * I(2) - im * sin(ϕ / 2) * σ_dot_n\n",
    "    return D\n",
    "end\n",
    "\n",
    "# Part (b): Restrictions and degrees of freedom\n",
    "function check_su2_matrix(D::Matrix{ComplexF64})\n",
    "    # Check determinant and unitarity\n",
    "    det_condition = isapprox(det(D), 1) #  matrix unimodular\n",
    "    hermitian_condition = isapprox(D' * D, I(2)) # matrix unitarity\n",
    "    # if both -> spetial unitarity \n",
    "    return det_condition && hermitian_condition\n",
    "end\n",
    "\n",
    "# Part (c): Generate random SU(2) matrices\n",
    "function generate_random_su2()\n",
    "    # Randomly sample angles\n",
    "    ϕ = rand() * 2π  # Angle in [0, 2π]\n",
    "    θ = rand() * π   # Angle in [0, π]\n",
    "    ζ = rand() * 2π  # Angle in [0, 2π]\n",
    "    \n",
    "    # Generate a random unit vector\n",
    "    n = [sin(θ) * cos(ζ), sin(θ) * sin(ζ), cos(θ)]\n",
    "    \n",
    "    # Compute and return the SU(2) matrix\n",
    "    return compute_D(ϕ, n)\n",
    "end\n",
    "\n",
    "# Part (d): Levi-Civita symbol\n",
    "function levi_civita(i::Int, j::Int, k::Int)\n",
    "    # Compute the commutator [σ_i, σ_j]\n",
    "    commutator = σ[i] * σ[j] - σ[j] * σ[i]\n",
    "    \n",
    "    # Compute the trace with σ_k\n",
    "    return real(tr(commutator * σ[k])) / (8im)\n",
    "end\n",
    "\n",
    "# Alternative method for Levi-Civita symbol\n",
    "function levi_civita_alternative(i::Int, j::Int, k::Int)\n",
    "    if i == j || j == k || k == i\n",
    "        return 0\n",
    "    end\n",
    "    if (i, j, k) in [(1, 2, 3), (2, 3, 1), (3, 1, 2)]\n",
    "        return 1\n",
    "    end\n",
    "    if (i, j, k) in [(3, 2, 1), (1, 3, 2), (2, 1, 3)]\n",
    "        return -1\n",
    "    end\n",
    "    return 0\n",
    "end\n",
    "\n",
    "# Example usage\n",
    "a = [1.0, 2.0, 3.0]\n",
    "b = [4.0, 5.0, 6.0]\n",
    "ϕ = π / 4\n",
    "n = [0.0, 0.0, 1.0]\n",
    "\n",
    "# Verify relations\n",
    "println(\"Verify Relation 1:\", verify_relation_1(a, b))\n",
    "D = compute_D(ϕ, n)\n",
    "println(\"SU(2) Matrix D:\\n\", D)\n",
    "println(\"Check SU(2) Properties:\", check_su2_matrix(D))\n",
    "\n",
    "# Generate random SU(2)\n",
    "random_su2 = generate_random_su2()\n",
    "println(\"Random SU(2) Matrix:\\n\", random_su2)\n",
    "\n",
    "# Compute Levi-Civita symbol\n",
    "println(\"Levi-Civita (method 1):\", levi_civita(1, 2, 3))\n",
    "println(\"Levi-Civita (alternative):\", levi_civita_alternative(1, 2, 3))\n"
   ]
  },
  {
   "cell_type": "code",
   "execution_count": null,
   "metadata": {},
   "outputs": [],
   "source": []
  },
  {
   "cell_type": "markdown",
   "metadata": {},
   "source": [
    "# Q.4 Legendre Transform"
   ]
  },
  {
   "cell_type": "code",
   "execution_count": 18,
   "metadata": {},
   "outputs": [
    {
     "ename": "Base.Meta.ParseError",
     "evalue": "ParseError:\n# Error @ c:\\Users\\Tomek\\source\\repos\\NumQM\\jl_notebook_cell_df34fa98e69747e1a8f8a730347b8e2f_X46sZmlsZQ==.jl:1:8\nH = px^. - L\n#      ╙ ── invalid identifier",
     "output_type": "error",
     "traceback": [
      "ParseError:\n",
      "# Error @ c:\\Users\\Tomek\\source\\repos\\NumQM\\jl_notebook_cell_df34fa98e69747e1a8f8a730347b8e2f_X46sZmlsZQ==.jl:1:8\n",
      "H = px^. - L\n",
      "#      ╙ ── invalid identifier\n",
      "\n",
      "Stacktrace:\n",
      " [1] top-level scope\n",
      "   @ c:\\Users\\Tomek\\source\\repos\\NumQM\\jl_notebook_cell_df34fa98e69747e1a8f8a730347b8e2f_X46sZmlsZQ==.jl:1"
     ]
    }
   ],
   "source": [
    "H = px^. - L"
   ]
  },
  {
   "cell_type": "markdown",
   "metadata": {},
   "source": [
    "# TODO\n",
    "# Q.5  Gaussian integral"
   ]
  },
  {
   "cell_type": "code",
   "execution_count": 34,
   "metadata": {},
   "outputs": [
    {
     "data": {
      "text/plain": [
       "gaussian (generic function with 1 method)"
      ]
     },
     "execution_count": 34,
     "metadata": {},
     "output_type": "execute_result"
    }
   ],
   "source": [
    "# simpson_req is adaptive recursive Simpson's rule | interesting case: sin(x) in [0, 2pi]\n",
    "function simpsons_req(f, A, a, b, TOL=2^(-8))  \n",
    "    function integrate_(f, A, a, fa, b, fb, TOL)\n",
    "        n = (a+b)/2\n",
    "        fn = f(A, n)\n",
    "        res = (b-a)/6 * (fa + 4*fn + fb)\n",
    "        if res < TOL return res \n",
    "        else return integrate_(f, A, a, fa, n, fn, TOL) + integrate_(f, A, n, fn, b, fb, TOL) end\n",
    "    end\n",
    "    return integrate_(f, A, a, f(A, a), b, f(A, b), TOL)\n",
    "end\n",
    "\n",
    "# iterative solution for usage to specyfic case functions\n",
    "function simpsons_iter(f, A, a, b, N)\n",
    "    step = (b-a)/N\n",
    "    res = 0\n",
    "    _a = a\n",
    "    _b = a + step\n",
    "    _f_a = f(A, _a)\n",
    "    _f_b = f(A, _b)\n",
    "    \n",
    "    for _ in 1:N\n",
    "        res += (_b-_a)/6*(_f_a + 4*f(A, (_a+_b)/2) + _f_b)\n",
    "        _a = _b\n",
    "        _b = _a + step\n",
    "        _f_a = _f_b\n",
    "        _f_b = f(A, _b)\n",
    "    end\n",
    "    return res\n",
    "end\n",
    "\n",
    "function gaussian(A, x)\n",
    "    return exp(-A*(x^2))\n",
    "end"
   ]
  },
  {
   "cell_type": "code",
   "execution_count": 36,
   "metadata": {},
   "outputs": [
    {
     "name": "stdout",
     "output_type": "stream",
     "text": [
      "1.7724538509055159\t1.7724538509055159\t0.0\n"
     ]
    }
   ],
   "source": [
    "a = -2^16\n",
    "b = 2^16\n",
    "A = 1\n",
    "TOL = 2^(-16)\n",
    "\n",
    "#result = simpsons_req(gaussian, A, a, b, TOL)\n",
    "result = simpsons_iter(gaussian, A, a, b, 2^18)\n",
    "\n",
    "println(result, \"\\t\", sqrt(pi/A), \"\\t\", result - sqrt(pi/A))  "
   ]
  },
  {
   "cell_type": "code",
   "execution_count": 47,
   "metadata": {},
   "outputs": [
    {
     "name": "stdout",
     "output_type": "stream",
     "text": [
      "[1.77245, 1.77245]\n"
     ]
    }
   ],
   "source": [
    "# 1D Gaussian by dr Pom Man Lo :https://numqm.netlify.app/lessons/gaussianintegrals\n",
    "\n",
    "N = 100\n",
    "rv = range(-1.0, stop=1.0, length=N)\n",
    "dr = 2.0/(N-1)\n",
    "\n",
    "# map (-1, 1) to (-Inf, Inf)\n",
    "xvf = r -> r/(1-r^2)\n",
    "xwf = r -> (1+r^2)/(1-r^2)^2\n",
    "\n",
    "f = x -> exp(-x^2)\n",
    "\n",
    "ret = 0.0\n",
    "\n",
    "for rr in rv[1:N-1]\n",
    "    #println(rr+dr/2,\"\\t\", xwf(rr+dr/2), \"\\t\", xvf(rr+dr/2))\n",
    "    ret += dr * xwf(rr+dr/2) * f(xvf(rr+dr/2))\n",
    "end\n",
    "\n",
    "println([ret, sqrt(pi)])"
   ]
  },
  {
   "cell_type": "markdown",
   "metadata": {},
   "source": [
    "Usage of Gaussian integral (quantum mechanics)"
   ]
  },
  {
   "cell_type": "code",
   "execution_count": 39,
   "metadata": {},
   "outputs": [
    {
     "name": "stdout",
     "output_type": "stream",
     "text": [
      "<x> =0.0\n",
      "<x^2> =0.49998885252366476\n",
      "<p> =0.0\n",
      "<p^2> =0.4972957813044254"
     ]
    }
   ],
   "source": [
    "A = 1 # global parameter\n",
    "f = x -> exp(-A/2*(x^2))\n",
    "#simpsons_req(f, A, a, b, TOL) \n",
    "f_help_res(A, x) = exp(-A*x^2)\n",
    "result_help = simpsons_req(f_help_res, A, -2^8, 2^8)\n",
    "fu_x(A, x) = f(x)*x*f(x)\n",
    "#funkcyjka = A, x -> f(x)*x*f(x)\n",
    "d_x_b = simpsons_req(fu_x , A, -2^8, 2^8) / result_help\n",
    "println(\"<x> =\", d_x_b)\n",
    "\n",
    "fu_xx(A, x) = f(x)*x^2*f(x)\n",
    "#d_xx_b = simpsons_req(fu_xx, A, -2^8, 2^8) / result_help\n",
    "d_xx_b = simpsons_iter(fu_xx, A, -2^8, 2^8, 2^18) / result_help\n",
    "println(\"<x^2> =\", d_xx_b)\n",
    "\n",
    "\n",
    "# one of the derivative methods described in lecture\n",
    "function derivative_1ord(f, A, x0, dx=2^(-8))\n",
    "    return 1/12/dx * \n",
    "        (-f(A,x0+dx+dx)\n",
    "         -8*f(A,x0-dx)\n",
    "         +8*f(A,x0+dx)\n",
    "         +f(A,x0-dx-dx))\n",
    "end\n",
    "\n",
    "fu_help(A, x) = f(x)\n",
    "p = x -> -1im*derivative_1ord(fu_help, A, x)\n",
    "fu_p(A, x) = real(f(x)*p(x)) # not sure about this\n",
    "d_p_b = simpsons_req(fu_p, A, -2^8, 2^8,) / result_help\n",
    "println(\"<p> =\", d_p_b)\n",
    "\n",
    "function derivative_2ord(f, x0, dx=2^(-8))\n",
    "    return (f(x0 + dx) - 2*f(x0) + f(x0 - dx))/dx/dx\n",
    "end\n",
    "\n",
    "pp = x -> -derivative_2ord((x -> f(x)), x)\n",
    "fu_pp(A, x) = real(f(x)*pp(x))\n",
    "d_pp_b = simpsons_req(fu_pp, A, -2^8, 2^8) / result_help\n",
    "print(\"<p^2> =\", d_pp_b)"
   ]
  },
  {
   "cell_type": "code",
   "execution_count": 40,
   "metadata": {},
   "outputs": [
    {
     "data": {
      "text/plain": [
       "0.248642347059259"
      ]
     },
     "execution_count": 40,
     "metadata": {},
     "output_type": "execute_result"
    }
   ],
   "source": [
    "(d_pp_b - d_p_b^2) * (d_xx_b - d_x_b^2)"
   ]
  }
 ],
 "metadata": {
  "kernelspec": {
   "display_name": "Julia 1.0.5",
   "language": "julia",
   "name": "julia-1.0"
  },
  "language_info": {
   "file_extension": ".jl",
   "mimetype": "application/julia",
   "name": "julia",
   "version": "1.0.5"
  },
  "polyglot_notebook": {
   "kernelInfo": {
    "defaultKernelName": "csharp",
    "items": [
     {
      "aliases": [],
      "name": "csharp"
     }
    ]
   }
  }
 },
 "nbformat": 4,
 "nbformat_minor": 2
}
