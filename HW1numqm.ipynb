{
 "cells": [
  {
   "cell_type": "markdown",
   "metadata": {},
   "source": [
    "# Q.1"
   ]
  },
  {
   "cell_type": "code",
   "execution_count": 1,
   "metadata": {
    "dotnet_interactive": {
     "language": "csharp"
    },
    "polyglot_notebook": {
     "kernelName": "csharp"
    }
   },
   "outputs": [
    {
     "name": "stdout",
     "output_type": "stream",
     "text": [
      "1.6180229187011719"
     ]
    }
   ],
   "source": [
    "# Bisection method\n",
    "function bisection(f, a, b, NMAX, TOL)\n",
    "    N = 0\n",
    "    while N <= NMAX\n",
    "        c = (a + b) / 2\n",
    "        #println(a, \" \", c, \" \", b)\n",
    "        if ((f(c) == 0) || ((b-a)/2 < TOL))\n",
    "            return c \n",
    "        end\n",
    "        if f(c)/f(a) > 0\n",
    "            a = c \n",
    "        else\n",
    "            b = c\n",
    "        end\n",
    "        N += 1\n",
    "    end\n",
    "    return a\n",
    "end\n",
    "\n",
    "function func(x)\n",
    "    return x*x - x - 1\n",
    "end \n",
    "\n",
    "a = 0 \n",
    "b = 3 # area of search\n",
    "NMAX = 100 # max iterations\n",
    "TOL = 2^(-16)\n",
    "print(bisection(func, a, b, NMAX, TOL))"
   ]
  },
  {
   "cell_type": "code",
   "execution_count": 2,
   "metadata": {
    "dotnet_interactive": {
     "language": "csharp"
    },
    "polyglot_notebook": {
     "kernelName": "csharp"
    }
   },
   "outputs": [
    {
     "name": "stdout",
     "output_type": "stream",
     "text": [
      "1.618033988749895"
     ]
    }
   ],
   "source": [
    "function golden_mean(x_0, NMAX)\n",
    "    if NMAX <= 0\n",
    "        return x_0\n",
    "    end\n",
    "    golden_mean(1+1/x_0, NMAX-1)\n",
    "end\n",
    "\n",
    "x_0 = 1 # starting point\n",
    "NMAX = 100 # max iterations\n",
    "print(golden_mean(x_0, NMAX))"
   ]
  },
  {
   "cell_type": "markdown",
   "metadata": {},
   "source": [
    "### Golden Mean\n",
    "```math\n",
    "x^2 - x - 1 = 0 \n",
    "```\n",
    "```math\n",
    "x + 1 = x^2 | /x\n",
    "```\n",
    "```math\n",
    "1 + \\frac{1}{x} = x\n",
    "```"
   ]
  },
  {
   "cell_type": "markdown",
   "metadata": {},
   "source": [
    "# Q.2\n",
    "Newton's method\n",
    "```math\n",
    "x_{n+1} = x_n - \\frac{f(x_n)}{f'(x_n)}\n",
    "```\n",
    "our function is:\n",
    "```math\n",
    "f(x) = \\frac{1}{x} - a = 0\n",
    "```\n",
    "```math\n",
    "f'(x) = -\\frac{1}{x^2}\n",
    "```\n",
    "then the Newton's method becomes\n",
    "```math\n",
    "x_{n+1} = x_n - \\frac{\\frac{1}{x_n} - a}{-\\frac{1}{x_n^2}}\n",
    "```\n",
    "```math\n",
    "x_{n+1} = x_n + x_n^2 \\cdot (\\frac{1}{x_n} - a)\n",
    "```\n",
    "```math\n",
    "x_{n+1} = x_n + x_n  - a \\cdot x_n\n",
    "```\n",
    "```math\n",
    "x_{n+1} = x_n \\cdot(2 - a x_n)\n",
    "```"
   ]
  },
  {
   "cell_type": "code",
   "execution_count": 3,
   "metadata": {
    "dotnet_interactive": {
     "language": "csharp"
    },
    "polyglot_notebook": {
     "kernelName": "csharp"
    }
   },
   "outputs": [
    {
     "name": "stdout",
     "output_type": "stream",
     "text": [
      "10.0\n",
      "10.0\n"
     ]
    }
   ],
   "source": [
    "function inverses(x_n, a, NMAX)\n",
    "    if NMAX <= 0\n",
    "        return x_n\n",
    "    end\n",
    "    inverses((x_n*(2-a*x_n)), a, NMAX-1)\n",
    "end\n",
    "\n",
    "x = 0.001\n",
    "a = 0.1\n",
    "NMAX = 1000\n",
    "println(inverses(x, a, NMAX))\n",
    "println(1/a)\n"
   ]
  },
  {
   "cell_type": "code",
   "execution_count": 4,
   "metadata": {},
   "outputs": [
    {
     "data": {
      "text/plain": [
       "2×2 Matrix{Float64}:\n",
       " 11.0      0.486395\n",
       "  5.43656  1.28172"
      ]
     },
     "metadata": {},
     "output_type": "display_data"
    },
    {
     "data": {
      "text/plain": [
       "2×2 Matrix{Int64}:\n",
       " 2  0\n",
       " 0  1"
      ]
     },
     "metadata": {},
     "output_type": "display_data"
    },
    {
     "data": {
      "text/plain": [
       "2×2 Matrix{Int64}:\n",
       " 4  0\n",
       " 0  2"
      ]
     },
     "metadata": {},
     "output_type": "display_data"
    },
    {
     "data": {
      "text/plain": [
       "2×2 Matrix{Int64}:\n",
       " 4  0\n",
       " 0  2"
      ]
     },
     "metadata": {},
     "output_type": "display_data"
    }
   ],
   "source": [
    "A = [11 0.486395; 5.43656 1.28172]\n",
    "I = [2 0; 0 1]\n",
    "\n",
    "display(A)\n",
    "display(I)\n",
    "display(2 .* I)\n",
    "display(2 * I)"
   ]
  },
  {
   "cell_type": "markdown",
   "metadata": {},
   "source": [
    "# Inverse of a matrix"
   ]
  },
  {
   "cell_type": "code",
   "execution_count": 5,
   "metadata": {
    "dotnet_interactive": {
     "language": "csharp"
    },
    "polyglot_notebook": {
     "kernelName": "csharp"
    }
   },
   "outputs": [
    {
     "data": {
      "text/plain": [
       "2×2 Matrix{Float64}:\n",
       " 0.11       0.00486395\n",
       " 0.0543656  0.0128172"
      ]
     },
     "metadata": {},
     "output_type": "display_data"
    },
    {
     "data": {
      "text/plain": [
       "2×2 Matrix{Float64}:\n",
       "  0.111896  -0.0424628\n",
       " -0.474618   0.960313"
      ]
     },
     "metadata": {},
     "output_type": "display_data"
    },
    {
     "data": {
      "text/plain": [
       "2×2 Matrix{Float64}:\n",
       "  0.111896  -0.0424628\n",
       " -0.474618   0.960313"
      ]
     },
     "metadata": {},
     "output_type": "display_data"
    }
   ],
   "source": [
    "I = [1 0; 0 1]\n",
    "\"\"\"I=[1 0 0 0 0;                       \n",
    "   0 1 0 0 0;\n",
    "   0 0 1 0 0;\n",
    "   0 0 0 1 0;\n",
    "   0 0 0 0 1]\"\"\"\n",
    "function inverses_matrix(x_n, a, NMAX)\n",
    "    if NMAX <= 0\n",
    "        return x_n\n",
    "    end\n",
    "    inverses_matrix((x_n * (2 * I - a * x_n)), a, NMAX-1)\n",
    "end\n",
    "\n",
    "A = [11 0.486395; 5.43656 1.28172]\n",
    "\"\"\"A=[4 1 0 0 0;                       \n",
    "   1 4 1 0 0;\n",
    "   0 1 4 1 0;\n",
    "   0 0 1 4 1;\n",
    "   0 0 0 1 4]\"\"\"\n",
    "#X = [0.1 0.1; 0.1 0.1]\n",
    "X = 1/100 * A\n",
    "display(X)\n",
    "#A = [0.1 0.1; 0.1 0.1]\n",
    "#X = [0.1 0.1 0.1; 0.1 0.1 0.1; 0.1 0.1 0.1]\n",
    "#X = 1000 .* X\n",
    "#print(X)\n",
    "#A = [1 2 3; 4 1 6; 7 8 1]\n",
    "NMAX = 5000\n",
    "display(inverses_matrix(X, A, NMAX))\n",
    "display(inv(A))"
   ]
  },
  {
   "cell_type": "code",
   "execution_count": 6,
   "metadata": {},
   "outputs": [
    {
     "data": {
      "text/plain": [
       "5×5 Matrix{Float64}:\n",
       " 0.04  0.01  0.0   0.0   0.0\n",
       " 0.01  0.04  0.01  0.0   0.0\n",
       " 0.0   0.01  0.04  0.01  0.0\n",
       " 0.0   0.0   0.01  0.04  0.01\n",
       " 0.0   0.0   0.0   0.01  0.04"
      ]
     },
     "metadata": {},
     "output_type": "display_data"
    },
    {
     "data": {
      "text/plain": [
       "5×5 Matrix{Float64}:\n",
       "  0.267949    -0.0717949    0.0192308  -0.00512821   0.00128205\n",
       " -0.0717949    0.287179    -0.0769231   0.0205128   -0.00512821\n",
       "  0.0192308   -0.0769231    0.288462   -0.0769231    0.0192308\n",
       " -0.00512821   0.0205128   -0.0769231   0.287179    -0.0717949\n",
       "  0.00128205  -0.00512821   0.0192308  -0.0717949    0.267949"
      ]
     },
     "metadata": {},
     "output_type": "display_data"
    },
    {
     "data": {
      "text/plain": [
       "5×5 Matrix{Float64}:\n",
       "  0.267949    -0.0717949    0.0192308  -0.00512821   0.00128205\n",
       " -0.0717949    0.287179    -0.0769231   0.0205128   -0.00512821\n",
       "  0.0192308   -0.0769231    0.288462   -0.0769231    0.0192308\n",
       " -0.00512821   0.0205128   -0.0769231   0.287179    -0.0717949\n",
       "  0.00128205  -0.00512821   0.0192308  -0.0717949    0.267949"
      ]
     },
     "metadata": {},
     "output_type": "display_data"
    }
   ],
   "source": [
    "I=[1 0 0 0 0;                       \n",
    "   0 1 0 0 0;\n",
    "   0 0 1 0 0;\n",
    "   0 0 0 1 0;\n",
    "   0 0 0 0 1]\n",
    "function inverses_matrix(x_n, a, NMAX)\n",
    "    if NMAX <= 0\n",
    "        return x_n\n",
    "    end\n",
    "    inverses_matrix((x_n * (2 * I - a * x_n)), a, NMAX-1)\n",
    "end\n",
    "\n",
    "A=[4 1 0 0 0;                       \n",
    "   1 4 1 0 0;\n",
    "   0 1 4 1 0;\n",
    "   0 0 1 4 1;\n",
    "   0 0 0 1 4]\n",
    "\n",
    "X = 1/100 * A\n",
    "display(X)\n",
    "NMAX = 5000\n",
    "display(inverses_matrix(X, A, NMAX))\n",
    "display(inv(A))"
   ]
  },
  {
   "cell_type": "markdown",
   "metadata": {},
   "source": [
    "I spent so much time at this looking for errors, and it tourn out to be that choise of X is that important, not only A!"
   ]
  },
  {
   "cell_type": "markdown",
   "metadata": {},
   "source": [
    "# Q.3"
   ]
  },
  {
   "cell_type": "code",
   "execution_count": 7,
   "metadata": {
    "dotnet_interactive": {
     "language": "csharp"
    },
    "polyglot_notebook": {
     "kernelName": "csharp"
    }
   },
   "outputs": [
    {
     "name": "stdout",
     "output_type": "stream",
     "text": [
      "-1 + 0i\n",
      "-0.9999999999999999 + 1.5269510447359757e-16i\n",
      "1.501337291432472e-16 + 1.0i\n"
     ]
    }
   ],
   "source": [
    "imat = [ 0 -1; 1 0 ]\n",
    "function print_imat(f)\n",
    "    println(f[1,1], \" + \", f[2, 1], \"i\")\n",
    "end\n",
    "print_imat(imat^2)\n",
    "print_imat(exp(imat * pi))\n",
    "print_imat(exp(imat * pi / 2))"
   ]
  },
  {
   "cell_type": "markdown",
   "metadata": {},
   "source": [
    "# Q.4"
   ]
  },
  {
   "cell_type": "code",
   "execution_count": 8,
   "metadata": {
    "dotnet_interactive": {
     "language": "csharp"
    },
    "polyglot_notebook": {
     "kernelName": "csharp"
    }
   },
   "outputs": [
    {
     "data": {
      "text/plain": [
       "gaussian (generic function with 1 method)"
      ]
     },
     "metadata": {},
     "output_type": "display_data"
    }
   ],
   "source": [
    "function simpsons_rule(f, A, a, b, f_a, f_b, TOL) # better change for better implementation\n",
    "    n = (a+b)/2\n",
    "    f_n = f(A, n)\n",
    "    int_val = (b-a)/6*(f_a + 4*f_n + f_b)\n",
    "    #println(int_val)\n",
    "    if int_val < TOL \n",
    "        return int_val\n",
    "    else\n",
    "        simpsons_rule(f, A, a, n, f_a, f_n, TOL)\n",
    "        + simpsons_rule(f, A, n, b, f_n, f_b, TOL)\n",
    "    end\n",
    "end\n",
    "\n",
    "function simpsons_rule_explicit(f, A, a, b, f_a, f_b, TOL) # better change for better implementation\n",
    "    return (b-a)/6*(f_a + 4*f(A, (a+b)/2) + f_b)\n",
    "end\n",
    "\n",
    "function simpsons_rule_iter(f, A, a, b, f_a, f_b, TOL, length)\n",
    "    step = (b-a)/length\n",
    "    res = 0\n",
    "    _a = A\n",
    "    _b = a + step\n",
    "    _f_a = f_a\n",
    "    _f_b = f(A, _b)\n",
    "    for i in 1:length\n",
    "        res += simpsons_rule_explicit(f, A, _a, _b, _f_a, _f_b, TOL)\n",
    "        _a = _b\n",
    "        _b = _a + step\n",
    "        _f_a = _f_b\n",
    "        _f_b = f(A, _b)\n",
    "    end\n",
    "    println(_a)\n",
    "    println(res)\n",
    "\n",
    "end\n",
    "\n",
    "# map (-1, 1) to (-Inf, Inf)\n",
    "xvf = r -> r/(1-r^2)\n",
    "xwf = r -> (1+r^2)/(1-r^2)^2\n",
    "\n",
    "# integrate_fav_req is adaptive recursive Simpson's rule | interesting case: sin(x) in [0, 2pi]\n",
    "function integrate_fav_req(f, A, a, b, TOL)  \n",
    "    function integrate_(f, A, a, fa, b, fb, TOL)\n",
    "        n = (a+b)/2\n",
    "        fn = f(n, A)\n",
    "        res = (b-a)/6 * (fa + 4*fn + fb)\n",
    "        if res < TOL\n",
    "            return res\n",
    "        else\n",
    "            return integrate_(f, A, a, fa, n, fn, TOL) + integrate_(f, A, n, fn, b, fb, TOL)\n",
    "        end\n",
    "    end\n",
    "    \n",
    "    result = integrate_(f, A, a, f(a, A), b, f(b, A), TOL)\n",
    "    return result\n",
    "end\n",
    "\n",
    "\n",
    "\n",
    "\n",
    "\n",
    "function gaussian(A, x)\n",
    "    return exp(-A*(x^2))\n",
    "end"
   ]
  },
  {
   "cell_type": "code",
   "execution_count": 11,
   "metadata": {},
   "outputs": [
    {
     "data": {
      "text/plain": [
       "2.350402387343935"
      ]
     },
     "metadata": {},
     "output_type": "display_data"
    }
   ],
   "source": [
    "a = -1\n",
    "b = 1\n",
    "A = 1\n",
    "f_a = gaussian(A, a)\n",
    "f_b = gaussian(A, b)\n",
    "#TOL = 100000\n",
    "TOL = 2^(-6)\n",
    "\n",
    "#simpsons_rule(gaussian, A, a, b, f_a, f_b, TOL)\n",
    "integrate_fav_req(gaussian, A, a, b, TOL)  \n",
    "#simpsons_rule_iter(gaussian, A, a, b, f_a, f_b, TOL, 10)"
   ]
  },
  {
   "cell_type": "code",
   "execution_count": null,
   "metadata": {},
   "outputs": [],
   "source": [
    "# 1D Gaussian\n",
    "\n",
    "N = 100\n",
    "rv = range(-1.0, 1.0, length=N)\n",
    "dr = 2.0/(N-1)\n",
    "\n",
    "# map (-1, 1) to (-Inf, Inf)\n",
    "xvf = r -> r/(1-r^2)\n",
    "xwf = r -> (1+r^2)/(1-r^2)^2\n",
    "\n",
    "f = x -> exp(-x^2)\n",
    "\n",
    "ret = 0.0\n",
    "\n",
    "for rr in rv[1:N-1]\n",
    "    #println(rr+dr/2,\"\\t\", xwf(rr+dr/2), \"\\t\", xvf(rr+dr/2))\n",
    "    ret += dr * xwf(rr+dr/2) * f(xvf(rr+dr/2))\n",
    "end\n",
    "\n",
    "println([ret, sqrt(pi)])"
   ]
  }
 ],
 "metadata": {
  "kernelspec": {
   "display_name": "Julia 1.10.4",
   "language": "julia",
   "name": "julia-1.10"
  },
  "language_info": {
   "file_extension": ".jl",
   "mimetype": "application/julia",
   "name": "julia",
   "version": "1.10.4"
  },
  "polyglot_notebook": {
   "kernelInfo": {
    "defaultKernelName": "csharp",
    "items": [
     {
      "aliases": [],
      "name": "csharp"
     }
    ]
   }
  }
 },
 "nbformat": 4,
 "nbformat_minor": 2
}
