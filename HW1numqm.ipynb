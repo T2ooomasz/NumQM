{
 "cells": [
  {
   "cell_type": "markdown",
   "metadata": {},
   "source": [
    "# Q.1"
   ]
  },
  {
   "cell_type": "code",
   "execution_count": 46,
   "metadata": {},
   "outputs": [
    {
     "name": "stdout",
     "output_type": "stream",
     "text": [
      "1.618033915758133"
     ]
    }
   ],
   "source": [
    "# Bisection method\n",
    "function bisection(f, a, b, NMAX, TOL)\n",
    "    N = 0\n",
    "    while N <= NMAX\n",
    "        c = (a + b) / 2\n",
    "        #println(a, \" \", c, \" \", b)\n",
    "        if ((f(c) == 0) || ((b-a)/2 < TOL))\n",
    "            return c \n",
    "        end\n",
    "        if f(c)/f(a) > 0\n",
    "            a = c \n",
    "        else\n",
    "            b = c\n",
    "        end\n",
    "        N += 1\n",
    "    end\n",
    "    return a\n",
    "end\n",
    "\n",
    "function func(x)\n",
    "    return x*x - x - 1\n",
    "end \n",
    "\n",
    "print(bisection(func, 0 , 3, 100, 0.000_000_1))"
   ]
  },
  {
   "cell_type": "code",
   "execution_count": 47,
   "metadata": {},
   "outputs": [
    {
     "name": "stdout",
     "output_type": "stream",
     "text": [
      "1.618033988749895"
     ]
    }
   ],
   "source": [
    "function golden_mean(x_0, NMAX)\n",
    "    if NMAX <= 0\n",
    "        return x_0\n",
    "    end\n",
    "    golden_mean(1+1/x_0, NMAX-1)\n",
    "end\n",
    "\n",
    "print(golden_mean(1, 100))"
   ]
  },
  {
   "cell_type": "markdown",
   "metadata": {},
   "source": [
    "### Golden Mean\n",
    "```math\n",
    "x^2 - x - 1 = 0 \n",
    "```\n",
    "```math\n",
    "x + 1 = x^2 | /x\n",
    "```\n",
    "```math\n",
    "1 + \\frac{1}{x} = x\n",
    "```"
   ]
  },
  {
   "cell_type": "markdown",
   "metadata": {},
   "source": [
    "# Q.2\n",
    "Newton's method\n",
    "```math\n",
    "x_{n+1} = x_n - \\frac{f(x_n)}{f'(x_n)}\n",
    "```\n",
    "our function is:\n",
    "```math\n",
    "f(x) = \\frac{1}{x} - a = 0\n",
    "```\n",
    "```math\n",
    "f'(x) = -\\frac{1}{x^2}\n",
    "```\n",
    "then the Newton's method becomes\n",
    "```math\n",
    "x_{n+1} = x_n - \\frac{\\frac{1}{x_n} - a}{-\\frac{1}{x_n^2}}\n",
    "```\n",
    "```math\n",
    "x_{n+1} = x_n + x_n^2 \\cdot (\\frac{1}{x_n} - a)\n",
    "```\n",
    "```math\n",
    "x_{n+1} = x_n + x_n  - a \\cdot x_n\n",
    "```\n",
    "```math\n",
    "x_{n+1} = x_n \\cdot(2 - a x_n)\n",
    "```"
   ]
  },
  {
   "cell_type": "code",
   "execution_count": 86,
   "metadata": {},
   "outputs": [
    {
     "name": "stdout",
     "output_type": "stream",
     "text": [
      "9.999999999999998\n",
      "10.0\n"
     ]
    }
   ],
   "source": [
    "function inverses(x_n, a, NMAX)\n",
    "    if NMAX <= 0\n",
    "        return x_n\n",
    "    end\n",
    "    inverses((x_n*(2-a*x_n)), a, NMAX-1)\n",
    "end\n",
    "\n",
    "x = 0.1\n",
    "a = 0.1\n",
    "NMAX = 1000\n",
    "println(inverses(x, a, NMAX))\n",
    "println(1/a)\n"
   ]
  },
  {
   "cell_type": "markdown",
   "metadata": {},
   "source": [
    "# Inverse of a matrix"
   ]
  },
  {
   "cell_type": "code",
   "execution_count": 103,
   "metadata": {},
   "outputs": [
    {
     "name": "stdout",
     "output_type": "stream",
     "text": [
      "[100.0 100.0 100.0; 100.0 100.0 100.0; 100.0 100.0 100.0]"
     ]
    },
    {
     "name": "stdout",
     "output_type": "stream",
     "text": [
      "[-Inf -Inf -Inf; -Inf -Inf -Inf; -Inf -Inf -Inf]\n",
      "[-0.4519230769230769 0.2115384615384615 0.08653846153846155; 0.3653846153846154 -0.1923076923076923 0.057692307692307675; 0.24038461538461536 0.057692307692307696 -0.0673076923076923]\n"
     ]
    }
   ],
   "source": [
    "function inverses_matrix(x_n, a, NMAX)\n",
    "    if NMAX <= 0\n",
    "        return x_n\n",
    "    end\n",
    "    inverses_matrix((x_n*(2 .- a*x_n)), a, NMAX-1)\n",
    "end\n",
    "\n",
    "#X = [0.1 0.1; 0.1 0.1]\n",
    "#A = [0.1 0.1; 0.1 0.1]\n",
    "X = [0.1 0.1 0.1; 0.1 0.1 0.1; 0.1 0.1 0.1]\n",
    "X = 1000 .* X\n",
    "print(X)\n",
    "A = [1 2 3; 4 1 6; 7 8 1]\n",
    "NMAX = 10\n",
    "println(inverses_matrix(X, A, NMAX))\n",
    "println(inv(A))"
   ]
  },
  {
   "cell_type": "markdown",
   "metadata": {},
   "source": [
    "# Q.3"
   ]
  },
  {
   "cell_type": "code",
   "execution_count": 122,
   "metadata": {},
   "outputs": [
    {
     "name": "stdout",
     "output_type": "stream",
     "text": [
      "-1 + 0i\n",
      "-0.9999999999999999 + -1.5269510447359757e-16i\n"
     ]
    },
    {
     "name": "stdout",
     "output_type": "stream",
     "text": [
      "1.501337291432472e-16 + -1.0i\n"
     ]
    }
   ],
   "source": [
    "imat = [ 0 -1; 1 0 ]\n",
    "function print_imat(f)\n",
    "    println(f[1,1], \" + \", f[1,2], \"i\")\n",
    "end\n",
    "print_imat(imat^2)\n",
    "print_imat(exp(imat * pi))\n",
    "print_imat(exp(imat * pi / 2))"
   ]
  },
  {
   "cell_type": "markdown",
   "metadata": {},
   "source": [
    "# Q.4"
   ]
  },
  {
   "cell_type": "code",
   "execution_count": 180,
   "metadata": {},
   "outputs": [
    {
     "data": {
      "text/plain": [
       "gaussian (generic function with 1 method)"
      ]
     },
     "metadata": {},
     "output_type": "display_data"
    }
   ],
   "source": [
    "function simpsons_rule(f, A, a, b, f_a, f_b, TOL) # better change for better implementation\n",
    "    n = (a+b)/2\n",
    "    f_n = f(A, n)\n",
    "    int_val = (b-a)/6*(f_a + 4*f_n + f_b)\n",
    "    #println(int_val)\n",
    "    if int_val < TOL \n",
    "        return int_val\n",
    "    else\n",
    "        simpsons_rule(f, A, a, n, f_a, f_n, TOL)\n",
    "        + simpsons_rule(f, A, n, b, f_n, f_b, TOL)\n",
    "    end\n",
    "end\n",
    "\n",
    "function simpsons_rule_explicit(f, A, a, b, f_a, f_b, TOL) # better change for better implementation\n",
    "    return (b-a)/6*(f_a + 4*f(A, (a+b)/2) + f_b)\n",
    "end\n",
    "\n",
    "function simpsons_rule_iter(f, A, a, b, f_a, f_b, TOL, length)\n",
    "    step = (b-a)/length\n",
    "    res = 0\n",
    "    _a = A\n",
    "    _b = a + step\n",
    "    _f_a = f_a\n",
    "    _f_b = f(A, _b)\n",
    "    for i in 1:length\n",
    "        res += simpsons_rule_explicit(f, A, _a, _b, _f_a, _f_b, TOL)\n",
    "        _a = _b\n",
    "        _b = _a + step\n",
    "        _f_a = _f_b\n",
    "        _f_b = f(A, _b)\n",
    "    end\n",
    "    println(_a)\n",
    "    println(res)\n",
    "\n",
    "end\n",
    "function gaussian(A, x)\n",
    "    return exp(-A*(x^2))\n",
    "end"
   ]
  },
  {
   "cell_type": "code",
   "execution_count": 182,
   "metadata": {},
   "outputs": [
    {
     "name": "stdout",
     "output_type": "stream",
     "text": [
      "1.0\n",
      "-0.05211493455800367\n"
     ]
    }
   ],
   "source": [
    "a = -1\n",
    "b = 1\n",
    "A = 1\n",
    "f_a = gaussian(A, a)\n",
    "f_b = gaussian(A, a)\n",
    "TOL = 1000\n",
    "#simpsons_rule(gaussian, A, a, b, f_a, f_b, TOL)\n",
    "simpsons_rule_iter(gaussian, A, a, b, f_a, f_b, TOL, 10)"
   ]
  }
 ],
 "metadata": {
  "kernelspec": {
   "display_name": "Julia 1.11.0",
   "language": "julia",
   "name": "julia-1.11"
  },
  "language_info": {
   "file_extension": ".jl",
   "mimetype": "application/julia",
   "name": "julia",
   "version": "1.11.0"
  }
 },
 "nbformat": 4,
 "nbformat_minor": 2
}
