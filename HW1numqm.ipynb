{
 "cells": [
  {
   "cell_type": "markdown",
   "metadata": {},
   "source": [
    "# Q.1"
   ]
  },
  {
   "cell_type": "code",
   "execution_count": 1,
   "metadata": {
    "dotnet_interactive": {
     "language": "csharp"
    },
    "polyglot_notebook": {
     "kernelName": "csharp"
    }
   },
   "outputs": [
    {
     "name": "stdout",
     "output_type": "stream",
     "text": [
      "1.6180229187011719"
     ]
    }
   ],
   "source": [
    "# Bisection method\n",
    "function bisection(f, a, b, NMAX, TOL)\n",
    "    N = 0\n",
    "    while N <= NMAX\n",
    "        c = (a + b) / 2\n",
    "        #println(a, \" \", c, \" \", b)\n",
    "        if ((f(c) == 0) || ((b-a)/2 < TOL))\n",
    "            return c \n",
    "        end\n",
    "        if f(c)/f(a) > 0\n",
    "            a = c \n",
    "        else\n",
    "            b = c\n",
    "        end\n",
    "        N += 1\n",
    "    end\n",
    "    return a\n",
    "end\n",
    "\n",
    "function func(x)\n",
    "    return x*x - x - 1\n",
    "end \n",
    "\n",
    "a = 0 \n",
    "b = 3 # area of search\n",
    "NMAX = 100 # max iterations\n",
    "TOL = 2^(-16)\n",
    "print(bisection(func, a, b, NMAX, TOL))"
   ]
  },
  {
   "cell_type": "code",
   "execution_count": 2,
   "metadata": {
    "dotnet_interactive": {
     "language": "csharp"
    },
    "polyglot_notebook": {
     "kernelName": "csharp"
    }
   },
   "outputs": [
    {
     "name": "stdout",
     "output_type": "stream",
     "text": [
      "1.618033988749895"
     ]
    }
   ],
   "source": [
    "function golden_mean(x_0, NMAX)\n",
    "    if NMAX <= 0\n",
    "        return x_0\n",
    "    end\n",
    "    golden_mean(1+1/x_0, NMAX-1)\n",
    "end\n",
    "\n",
    "x_0 = 1 # starting point\n",
    "NMAX = 100 # max iterations\n",
    "print(golden_mean(x_0, NMAX))"
   ]
  },
  {
   "cell_type": "markdown",
   "metadata": {},
   "source": [
    "### Golden Mean\n",
    "```math\n",
    "x^2 - x - 1 = 0 \n",
    "```\n",
    "```math\n",
    "x + 1 = x^2 | /x\n",
    "```\n",
    "```math\n",
    "1 + \\frac{1}{x} = x\n",
    "```"
   ]
  },
  {
   "cell_type": "markdown",
   "metadata": {},
   "source": [
    "# Q.2\n",
    "Newton's method\n",
    "```math\n",
    "x_{n+1} = x_n - \\frac{f(x_n)}{f'(x_n)}\n",
    "```\n",
    "our function is:\n",
    "```math\n",
    "f(x) = \\frac{1}{x} - a = 0\n",
    "```\n",
    "```math\n",
    "f'(x) = -\\frac{1}{x^2}\n",
    "```\n",
    "then the Newton's method becomes\n",
    "```math\n",
    "x_{n+1} = x_n - \\frac{\\frac{1}{x_n} - a}{-\\frac{1}{x_n^2}}\n",
    "```\n",
    "```math\n",
    "x_{n+1} = x_n + x_n^2 \\cdot (\\frac{1}{x_n} - a)\n",
    "```\n",
    "```math\n",
    "x_{n+1} = x_n + x_n  - a \\cdot x_n\n",
    "```\n",
    "```math\n",
    "x_{n+1} = x_n \\cdot(2 - a x_n)\n",
    "```"
   ]
  },
  {
   "cell_type": "code",
   "execution_count": 3,
   "metadata": {
    "dotnet_interactive": {
     "language": "csharp"
    },
    "polyglot_notebook": {
     "kernelName": "csharp"
    }
   },
   "outputs": [
    {
     "name": "stdout",
     "output_type": "stream",
     "text": [
      "10.0\n",
      "10.0\n"
     ]
    }
   ],
   "source": [
    "function inverses(x_n, a, NMAX)\n",
    "    if NMAX <= 0\n",
    "        return x_n\n",
    "    end\n",
    "    inverses((x_n*(2-a*x_n)), a, NMAX-1)\n",
    "end\n",
    "\n",
    "x = 0.001\n",
    "a = 0.1\n",
    "NMAX = 1000\n",
    "println(inverses(x, a, NMAX))\n",
    "println(1/a)\n"
   ]
  },
  {
   "cell_type": "code",
   "execution_count": 4,
   "metadata": {},
   "outputs": [
    {
     "data": {
      "text/plain": [
       "2×2 Matrix{Float64}:\n",
       " 11.0      0.486395\n",
       "  5.43656  1.28172"
      ]
     },
     "metadata": {},
     "output_type": "display_data"
    },
    {
     "data": {
      "text/plain": [
       "2×2 Matrix{Int64}:\n",
       " 2  0\n",
       " 0  1"
      ]
     },
     "metadata": {},
     "output_type": "display_data"
    },
    {
     "data": {
      "text/plain": [
       "2×2 Matrix{Int64}:\n",
       " 4  0\n",
       " 0  2"
      ]
     },
     "metadata": {},
     "output_type": "display_data"
    },
    {
     "data": {
      "text/plain": [
       "2×2 Matrix{Int64}:\n",
       " 4  0\n",
       " 0  2"
      ]
     },
     "metadata": {},
     "output_type": "display_data"
    }
   ],
   "source": [
    "A = [11 0.486395; 5.43656 1.28172]\n",
    "I = [2 0; 0 1]\n",
    "\n",
    "display(A)\n",
    "display(I)\n",
    "display(2 .* I)\n",
    "display(2 * I)"
   ]
  },
  {
   "cell_type": "markdown",
   "metadata": {},
   "source": [
    "# Inverse of a matrix"
   ]
  },
  {
   "cell_type": "code",
   "execution_count": 5,
   "metadata": {
    "dotnet_interactive": {
     "language": "csharp"
    },
    "polyglot_notebook": {
     "kernelName": "csharp"
    }
   },
   "outputs": [
    {
     "data": {
      "text/plain": [
       "2×2 Matrix{Float64}:\n",
       " 0.11       0.00486395\n",
       " 0.0543656  0.0128172"
      ]
     },
     "metadata": {},
     "output_type": "display_data"
    },
    {
     "data": {
      "text/plain": [
       "2×2 Matrix{Float64}:\n",
       "  0.111896  -0.0424628\n",
       " -0.474618   0.960313"
      ]
     },
     "metadata": {},
     "output_type": "display_data"
    },
    {
     "data": {
      "text/plain": [
       "2×2 Matrix{Float64}:\n",
       "  0.111896  -0.0424628\n",
       " -0.474618   0.960313"
      ]
     },
     "metadata": {},
     "output_type": "display_data"
    }
   ],
   "source": [
    "I = [1 0; 0 1]\n",
    "\"\"\"I=[1 0 0 0 0;                       \n",
    "   0 1 0 0 0;\n",
    "   0 0 1 0 0;\n",
    "   0 0 0 1 0;\n",
    "   0 0 0 0 1]\"\"\"\n",
    "function inverses_matrix(x_n, a, NMAX)\n",
    "    if NMAX <= 0\n",
    "        return x_n\n",
    "    end\n",
    "    inverses_matrix((x_n * (2 * I - a * x_n)), a, NMAX-1)\n",
    "end\n",
    "\n",
    "A = [11 0.486395; 5.43656 1.28172]\n",
    "\"\"\"A=[4 1 0 0 0;                       \n",
    "   1 4 1 0 0;\n",
    "   0 1 4 1 0;\n",
    "   0 0 1 4 1;\n",
    "   0 0 0 1 4]\"\"\"\n",
    "#X = [0.1 0.1; 0.1 0.1]\n",
    "X = 1/100 * A\n",
    "display(X)\n",
    "#A = [0.1 0.1; 0.1 0.1]\n",
    "#X = [0.1 0.1 0.1; 0.1 0.1 0.1; 0.1 0.1 0.1]\n",
    "#X = 1000 .* X\n",
    "#print(X)\n",
    "#A = [1 2 3; 4 1 6; 7 8 1]\n",
    "NMAX = 5000\n",
    "display(inverses_matrix(X, A, NMAX))\n",
    "display(inv(A))"
   ]
  },
  {
   "cell_type": "code",
   "execution_count": 6,
   "metadata": {},
   "outputs": [
    {
     "data": {
      "text/plain": [
       "5×5 Matrix{Float64}:\n",
       " 0.04  0.01  0.0   0.0   0.0\n",
       " 0.01  0.04  0.01  0.0   0.0\n",
       " 0.0   0.01  0.04  0.01  0.0\n",
       " 0.0   0.0   0.01  0.04  0.01\n",
       " 0.0   0.0   0.0   0.01  0.04"
      ]
     },
     "metadata": {},
     "output_type": "display_data"
    },
    {
     "data": {
      "text/plain": [
       "5×5 Matrix{Float64}:\n",
       "  0.267949    -0.0717949    0.0192308  -0.00512821   0.00128205\n",
       " -0.0717949    0.287179    -0.0769231   0.0205128   -0.00512821\n",
       "  0.0192308   -0.0769231    0.288462   -0.0769231    0.0192308\n",
       " -0.00512821   0.0205128   -0.0769231   0.287179    -0.0717949\n",
       "  0.00128205  -0.00512821   0.0192308  -0.0717949    0.267949"
      ]
     },
     "metadata": {},
     "output_type": "display_data"
    },
    {
     "data": {
      "text/plain": [
       "5×5 Matrix{Float64}:\n",
       "  0.267949    -0.0717949    0.0192308  -0.00512821   0.00128205\n",
       " -0.0717949    0.287179    -0.0769231   0.0205128   -0.00512821\n",
       "  0.0192308   -0.0769231    0.288462   -0.0769231    0.0192308\n",
       " -0.00512821   0.0205128   -0.0769231   0.287179    -0.0717949\n",
       "  0.00128205  -0.00512821   0.0192308  -0.0717949    0.267949"
      ]
     },
     "metadata": {},
     "output_type": "display_data"
    }
   ],
   "source": [
    "I=[1 0 0 0 0;                       \n",
    "   0 1 0 0 0;\n",
    "   0 0 1 0 0;\n",
    "   0 0 0 1 0;\n",
    "   0 0 0 0 1]\n",
    "function inverses_matrix(x_n, a, NMAX)\n",
    "    if NMAX <= 0\n",
    "        return x_n\n",
    "    end\n",
    "    inverses_matrix((x_n * (2 * I - a * x_n)), a, NMAX-1)\n",
    "end\n",
    "\n",
    "A=[4 1 0 0 0;                       \n",
    "   1 4 1 0 0;\n",
    "   0 1 4 1 0;\n",
    "   0 0 1 4 1;\n",
    "   0 0 0 1 4]\n",
    "\n",
    "X = 1/100 * A\n",
    "display(X)\n",
    "NMAX = 5000\n",
    "display(inverses_matrix(X, A, NMAX))\n",
    "display(inv(A))"
   ]
  },
  {
   "cell_type": "markdown",
   "metadata": {},
   "source": [
    "I spent so much time at this looking for errors, and it tourn out to be that choise of X is that important, not only A!"
   ]
  },
  {
   "cell_type": "markdown",
   "metadata": {},
   "source": [
    "# Q.3"
   ]
  },
  {
   "cell_type": "code",
   "execution_count": 7,
   "metadata": {
    "dotnet_interactive": {
     "language": "csharp"
    },
    "polyglot_notebook": {
     "kernelName": "csharp"
    }
   },
   "outputs": [
    {
     "name": "stdout",
     "output_type": "stream",
     "text": [
      "-1 + 0i\n",
      "-0.9999999999999999 + 1.5269510447359757e-16i\n",
      "1.501337291432472e-16 + 1.0i\n"
     ]
    }
   ],
   "source": [
    "imat = [ 0 -1; 1 0 ]\n",
    "function print_imat(f)\n",
    "    println(f[1,1], \" + \", f[2, 1], \"i\")\n",
    "end\n",
    "print_imat(imat^2)\n",
    "print_imat(exp(imat * pi))\n",
    "print_imat(exp(imat * pi / 2))"
   ]
  },
  {
   "cell_type": "markdown",
   "metadata": {},
   "source": [
    "# Q.4"
   ]
  },
  {
   "cell_type": "code",
   "execution_count": 8,
   "metadata": {},
   "outputs": [
    {
     "data": {
      "text/plain": [
       "gaussian (generic function with 1 method)"
      ]
     },
     "metadata": {},
     "output_type": "display_data"
    }
   ],
   "source": [
    "# simpson_req is adaptive recursive Simpson's rule | interesting case: sin(x) in [0, 2pi]\n",
    "function simpson_req(f, A, a, b, TOL=2^(-8))  \n",
    "    function integrate_(f, A, a, fa, b, fb, TOL)\n",
    "        n = (a+b)/2\n",
    "        fn = f(A, n)\n",
    "        res = (b-a)/6 * (fa + 4*fn + fb)\n",
    "        if res < TOL\n",
    "            return res\n",
    "        else\n",
    "            return integrate_(f, A, a, fa, n, fn, TOL) + integrate_(f, A, n, fn, b, fb, TOL)\n",
    "        end\n",
    "    end\n",
    "    \n",
    "    result = integrate_(f, A, a, f(A, a), b, f(A, b), TOL)\n",
    "    return result\n",
    "end\n",
    "\n",
    "function gaussian(A, x)\n",
    "    return exp(-A*(x^2))\n",
    "end"
   ]
  },
  {
   "cell_type": "code",
   "execution_count": null,
   "metadata": {},
   "outputs": [],
   "source": [
    "a = -2^16\n",
    "b = 2^16\n",
    "A = pi\n",
    "TOL = 2^(-16)\n",
    "result = simpson_req(gaussian, A, a, b, TOL)\n",
    "\n",
    "println(result, \"\\t\", sqrt(pi/A), \"\\t\", result - sqrt(pi/A))  "
   ]
  },
  {
   "cell_type": "code",
   "execution_count": 6,
   "metadata": {
    "dotnet_interactive": {
     "language": "csharp"
    },
    "polyglot_notebook": {
     "kernelName": "csharp"
    }
   },
   "outputs": [
    {
     "data": {
      "text/plain": [
       "simpsons_rule_iter_two (generic function with 1 method)"
      ]
     },
     "metadata": {},
     "output_type": "display_data"
    }
   ],
   "source": [
    "function simpsons_rule(f, A, a, b, f_a, f_b, TOL) # better change for better implementation\n",
    "    n = (a+b)/2\n",
    "    f_n = f(A, n)\n",
    "    int_val = (b-a)/6*(f_a + 4*f_n + f_b)\n",
    "    #println(int_val)\n",
    "    if int_val < TOL \n",
    "        return int_val\n",
    "    else\n",
    "        simpsons_rule(f, A, a, n, f_a, f_n, TOL)\n",
    "        + simpsons_rule(f, A, n, b, f_n, f_b, TOL)\n",
    "    end\n",
    "end\n",
    "\n",
    "function simpsons_rule_explicit(f, A, a, b, f_a, f_b) # better change for better implementation\n",
    "    return (b-a)/6*(f_a + 4*f(A, (a+b)/2) + f_b)\n",
    "end\n",
    "\n",
    "function simpsons_rule_iter(f, A, a, b, f_a, length)\n",
    "    step = (b-a)/length\n",
    "    res = 0\n",
    "    _a = a\n",
    "    _b = a + step\n",
    "    _f_a = f_a\n",
    "    _f_b = f(A, _b)\n",
    "    for i in 1:length-1\n",
    "        res += simpsons_rule_explicit(f, A, _a, _b, _f_a, _f_b)\n",
    "        _a = _b\n",
    "        _b = _a + step\n",
    "        _f_a = _f_b\n",
    "        _f_b = f(A, _b)\n",
    "    end\n",
    "    println(_a)\n",
    "    println(res)\n",
    "\n",
    "end\n",
    "\n",
    "function simpsons_rule_iter_two(f, A, N)\n",
    "    r = range(-1.0, 1.0, length=N)\n",
    "    step = 2.0/(N-1)\n",
    "    # map (-1, 1) to (-Inf, Inf)\n",
    "    xvf = r -> r/(1-r^2)\n",
    "    xwf = r -> (1+r^2)/(1-r^2)^2\n",
    "    println(r[1])\n",
    "    res = 0\n",
    "    _f_a = f(A, xvf(r[1]))\n",
    "    _f_b = f(A, xvf(r[1]+step))\n",
    "    for rr in r[1:N-1]\n",
    "        println(xvf(r[1]), \" \", xvf(r[1]+step), \" \")\n",
    "        res += simpsons_rule_explicit(f, A, xvf(rr), xvf(rr+step), _f_a, _f_b)\n",
    "        _f_a = _f_b\n",
    "        _f_b = f(A, xvf(rr+step))\n",
    "    end\n",
    "    #println(_a)\n",
    "    println(res)\n",
    "\n",
    "end"
   ]
  },
  {
   "cell_type": "code",
   "execution_count": 72,
   "metadata": {},
   "outputs": [
    {
     "data": {
      "image/png": "[encoded data removed]",
      "image/svg+xml": [
       "<?xml version=\"1.0\" encoding=\"utf-8\"?>\n",
       "<svg xmlns=\"http://www.w3.org/2000/svg\" xmlns:xlink=\"http://www.w3.org/1999/xlink\" width=\"600\" height=\"400\" viewBox=\"0 0 2400 1600\">\n",
       "<defs>\n",
       "  <clipPath id=\"clip260\">\n",
       "    <rect x=\"0\" y=\"0\" width=\"2400\" height=\"1600\"/>\n",
       "  </clipPath>\n",
       "</defs>\n",
       "<path clip-path=\"url(#clip260)\" d=\"M0 1600 L2400 1600 L2400 0 L0 0  Z\" fill=\"#ffffff\" fill-rule=\"evenodd\" fill-opacity=\"1\"/>\n",
       "<defs>\n",
       "  <clipPath id=\"clip261\">\n",
       "    <rect x=\"480\" y=\"0\" width=\"1681\" height=\"1600\"/>\n",
       "  </clipPath>\n",
       "</defs>\n",
       "<path clip-path=\"url(#clip260)\" d=\"M199.283 1486.45 L2352.76 1486.45 L2352.76 47.2441 L199.283 47.2441  Z\" fill=\"#ffffff\" fill-rule=\"evenodd\" fill-opacity=\"1\"/>\n",
       "<defs>\n",
       "  <clipPath id=\"clip262\">\n",
       "    <rect x=\"199\" y=\"47\" width=\"2154\" height=\"1440\"/>\n",
       "  </clipPath>\n",
       "</defs>\n",
       "<polyline clip-path=\"url(#clip262)\" style=\"stroke:#000000; stroke-linecap:round; stroke-linejoin:round; stroke-width:2; stroke-opacity:0.1; fill:none\" points=\"260.231,1486.45 260.231,47.2441 \"/>\n",
       "<polyline clip-path=\"url(#clip262)\" style=\"stroke:#000000; stroke-linecap:round; stroke-linejoin:round; stroke-width:2; stroke-opacity:0.1; fill:none\" points=\"768.125,1486.45 768.125,47.2441 \"/>\n",
       "<polyline clip-path=\"url(#clip262)\" style=\"stroke:#000000; stroke-linecap:round; stroke-linejoin:round; stroke-width:2; stroke-opacity:0.1; fill:none\" points=\"1276.02,1486.45 1276.02,47.2441 \"/>\n",
       "<polyline clip-path=\"url(#clip262)\" style=\"stroke:#000000; stroke-linecap:round; stroke-linejoin:round; stroke-width:2; stroke-opacity:0.1; fill:none\" points=\"1783.91,1486.45 1783.91,47.2441 \"/>\n",
       "<polyline clip-path=\"url(#clip262)\" style=\"stroke:#000000; stroke-linecap:round; stroke-linejoin:round; stroke-width:2; stroke-opacity:0.1; fill:none\" points=\"2291.81,1486.45 2291.81,47.2441 \"/>\n",
       "<polyline clip-path=\"url(#clip260)\" style=\"stroke:#000000; stroke-linecap:round; stroke-linejoin:round; stroke-width:4; stroke-opacity:1; fill:none\" points=\"199.283,1486.45 2352.76,1486.45 \"/>\n",
       "<polyline clip-path=\"url(#clip260)\" style=\"stroke:#000000; stroke-linecap:round; stroke-linejoin:round; stroke-width:4; stroke-opacity:1; fill:none\" points=\"260.231,1486.45 260.231,1467.55 \"/>\n",
       "<polyline clip-path=\"url(#clip260)\" style=\"stroke:#000000; stroke-linecap:round; stroke-linejoin:round; stroke-width:4; stroke-opacity:1; fill:none\" points=\"768.125,1486.45 768.125,1467.55 \"/>\n",
       "<polyline clip-path=\"url(#clip260)\" style=\"stroke:#000000; stroke-linecap:round; stroke-linejoin:round; stroke-width:4; stroke-opacity:1; fill:none\" points=\"1276.02,1486.45 1276.02,1467.55 \"/>\n",
       "<polyline clip-path=\"url(#clip260)\" style=\"stroke:#000000; stroke-linecap:round; stroke-linejoin:round; stroke-width:4; stroke-opacity:1; fill:none\" points=\"1783.91,1486.45 1783.91,1467.55 \"/>\n",
       "<polyline clip-path=\"url(#clip260)\" style=\"stroke:#000000; stroke-linecap:round; stroke-linejoin:round; stroke-width:4; stroke-opacity:1; fill:none\" points=\"2291.81,1486.45 2291.81,1467.55 \"/>\n",
       "<path clip-path=\"url(#clip260)\" d=\"M206.759 1532.02 L236.434 1532.02 L236.434 1535.95 L206.759 1535.95 L206.759 1532.02 Z\" fill=\"#000000\" fill-rule=\"nonzero\" fill-opacity=\"1\" /><path clip-path=\"url(#clip260)\" d=\"M247.337 1544.91 L254.976 1544.91 L254.976 1518.55 L246.666 1520.21 L246.666 1515.95 L254.93 1514.29 L259.606 1514.29 L259.606 1544.91 L267.244 1544.91 L267.244 1548.85 L247.337 1548.85 L247.337 1544.91 Z\" fill=\"#000000\" fill-rule=\"nonzero\" fill-opacity=\"1\" /><path clip-path=\"url(#clip260)\" d=\"M276.689 1542.97 L281.573 1542.97 L281.573 1548.85 L276.689 1548.85 L276.689 1542.97 Z\" fill=\"#000000\" fill-rule=\"nonzero\" fill-opacity=\"1\" /><path clip-path=\"url(#clip260)\" d=\"M301.758 1517.37 Q298.147 1517.37 296.318 1520.93 Q294.513 1524.47 294.513 1531.6 Q294.513 1538.71 296.318 1542.27 Q298.147 1545.82 301.758 1545.82 Q305.392 1545.82 307.198 1542.27 Q309.027 1538.71 309.027 1531.6 Q309.027 1524.47 307.198 1520.93 Q305.392 1517.37 301.758 1517.37 M301.758 1513.66 Q307.568 1513.66 310.624 1518.27 Q313.702 1522.85 313.702 1531.6 Q313.702 1540.33 310.624 1544.94 Q307.568 1549.52 301.758 1549.52 Q295.948 1549.52 292.869 1544.94 Q289.814 1540.33 289.814 1531.6 Q289.814 1522.85 292.869 1518.27 Q295.948 1513.66 301.758 1513.66 Z\" fill=\"#000000\" fill-rule=\"nonzero\" fill-opacity=\"1\" /><path clip-path=\"url(#clip260)\" d=\"M715.151 1532.02 L744.827 1532.02 L744.827 1535.95 L715.151 1535.95 L715.151 1532.02 Z\" fill=\"#000000\" fill-rule=\"nonzero\" fill-opacity=\"1\" /><path clip-path=\"url(#clip260)\" d=\"M764.919 1517.37 Q761.308 1517.37 759.479 1520.93 Q757.674 1524.47 757.674 1531.6 Q757.674 1538.71 759.479 1542.27 Q761.308 1545.82 764.919 1545.82 Q768.553 1545.82 770.359 1542.27 Q772.188 1538.71 772.188 1531.6 Q772.188 1524.47 770.359 1520.93 Q768.553 1517.37 764.919 1517.37 M764.919 1513.66 Q770.729 1513.66 773.785 1518.27 Q776.863 1522.85 776.863 1531.6 Q776.863 1540.33 773.785 1544.94 Q770.729 1549.52 764.919 1549.52 Q759.109 1549.52 756.03 1544.94 Q752.975 1540.33 752.975 1531.6 Q752.975 1522.85 756.03 1518.27 Q759.109 1513.66 764.919 1513.66 Z\" fill=\"#000000\" fill-rule=\"nonzero\" fill-opacity=\"1\" /><path clip-path=\"url(#clip260)\" d=\"M785.081 1542.97 L789.965 1542.97 L789.965 1548.85 L785.081 1548.85 L785.081 1542.97 Z\" fill=\"#000000\" fill-rule=\"nonzero\" fill-opacity=\"1\" /><path clip-path=\"url(#clip260)\" d=\"M800.197 1514.29 L818.553 1514.29 L818.553 1518.22 L804.479 1518.22 L804.479 1526.7 Q805.498 1526.35 806.516 1526.19 Q807.535 1526 808.553 1526 Q814.34 1526 817.72 1529.17 Q821.099 1532.34 821.099 1537.76 Q821.099 1543.34 817.627 1546.44 Q814.155 1549.52 807.835 1549.52 Q805.66 1549.52 803.391 1549.15 Q801.146 1548.78 798.738 1548.04 L798.738 1543.34 Q800.822 1544.47 803.044 1545.03 Q805.266 1545.58 807.743 1545.58 Q811.747 1545.58 814.085 1543.48 Q816.423 1541.37 816.423 1537.76 Q816.423 1534.15 814.085 1532.04 Q811.747 1529.94 807.743 1529.94 Q805.868 1529.94 803.993 1530.35 Q802.141 1530.77 800.197 1531.65 L800.197 1514.29 Z\" fill=\"#000000\" fill-rule=\"nonzero\" fill-opacity=\"1\" /><path clip-path=\"url(#clip260)\" d=\"M1253.4 1517.37 Q1249.79 1517.37 1247.96 1520.93 Q1246.16 1524.47 1246.16 1531.6 Q1246.16 1538.71 1247.96 1542.27 Q1249.79 1545.82 1253.4 1545.82 Q1257.04 1545.82 1258.84 1542.27 Q1260.67 1538.71 1260.67 1531.6 Q1260.67 1524.47 1258.84 1520.93 Q1257.04 1517.37 1253.4 1517.37 M1253.4 1513.66 Q1259.21 1513.66 1262.27 1518.27 Q1265.35 1522.85 1265.35 1531.6 Q1265.35 1540.33 1262.27 1544.94 Q1259.21 1549.52 1253.4 1549.52 Q1247.59 1549.52 1244.52 1544.94 Q1241.46 1540.33 1241.46 1531.6 Q1241.46 1522.85 1244.52 1518.27 Q1247.59 1513.66 1253.4 1513.66 Z\" fill=\"#000000\" fill-rule=\"nonzero\" fill-opacity=\"1\" /><path clip-path=\"url(#clip260)\" d=\"M1273.57 1542.97 L1278.45 1542.97 L1278.45 1548.85 L1273.57 1548.85 L1273.57 1542.97 Z\" fill=\"#000000\" fill-rule=\"nonzero\" fill-opacity=\"1\" /><path clip-path=\"url(#clip260)\" d=\"M1298.64 1517.37 Q1295.02 1517.37 1293.2 1520.93 Q1291.39 1524.47 1291.39 1531.6 Q1291.39 1538.71 1293.2 1542.27 Q1295.02 1545.82 1298.64 1545.82 Q1302.27 1545.82 1304.07 1542.27 Q1305.9 1538.71 1305.9 1531.6 Q1305.9 1524.47 1304.07 1520.93 Q1302.27 1517.37 1298.64 1517.37 M1298.64 1513.66 Q1304.45 1513.66 1307.5 1518.27 Q1310.58 1522.85 1310.58 1531.6 Q1310.58 1540.33 1307.5 1544.94 Q1304.45 1549.52 1298.64 1549.52 Q1292.83 1549.52 1289.75 1544.94 Q1286.69 1540.33 1286.69 1531.6 Q1286.69 1522.85 1289.75 1518.27 Q1292.83 1513.66 1298.64 1513.66 Z\" fill=\"#000000\" fill-rule=\"nonzero\" fill-opacity=\"1\" /><path clip-path=\"url(#clip260)\" d=\"M1761.8 1517.37 Q1758.19 1517.37 1756.36 1520.93 Q1754.55 1524.47 1754.55 1531.6 Q1754.55 1538.71 1756.36 1542.27 Q1758.19 1545.82 1761.8 1545.82 Q1765.43 1545.82 1767.24 1542.27 Q1769.06 1538.71 1769.06 1531.6 Q1769.06 1524.47 1767.24 1520.93 Q1765.43 1517.37 1761.8 1517.37 M1761.8 1513.66 Q1767.61 1513.66 1770.66 1518.27 Q1773.74 1522.85 1773.74 1531.6 Q1773.74 1540.33 1770.66 1544.94 Q1767.61 1549.52 1761.8 1549.52 Q1755.99 1549.52 1752.91 1544.94 Q1749.85 1540.33 1749.85 1531.6 Q1749.85 1522.85 1752.91 1518.27 Q1755.99 1513.66 1761.8 1513.66 Z\" fill=\"#000000\" fill-rule=\"nonzero\" fill-opacity=\"1\" /><path clip-path=\"url(#clip260)\" d=\"M1781.96 1542.97 L1786.84 1542.97 L1786.84 1548.85 L1781.96 1548.85 L1781.96 1542.97 Z\" fill=\"#000000\" fill-rule=\"nonzero\" fill-opacity=\"1\" /><path clip-path=\"url(#clip260)\" d=\"M1797.07 1514.29 L1815.43 1514.29 L1815.43 1518.22 L1801.36 1518.22 L1801.36 1526.7 Q1802.37 1526.35 1803.39 1526.19 Q1804.41 1526 1805.43 1526 Q1811.22 1526 1814.6 1529.17 Q1817.98 1532.34 1817.98 1537.76 Q1817.98 1543.34 1814.5 1546.44 Q1811.03 1549.52 1804.71 1549.52 Q1802.54 1549.52 1800.27 1549.15 Q1798.02 1548.78 1795.62 1548.04 L1795.62 1543.34 Q1797.7 1544.47 1799.92 1545.03 Q1802.14 1545.58 1804.62 1545.58 Q1808.62 1545.58 1810.96 1543.48 Q1813.3 1541.37 1813.3 1537.76 Q1813.3 1534.15 1810.96 1532.04 Q1808.62 1529.94 1804.62 1529.94 Q1802.74 1529.94 1800.87 1530.35 Q1799.02 1530.77 1797.07 1531.65 L1797.07 1514.29 Z\" fill=\"#000000\" fill-rule=\"nonzero\" fill-opacity=\"1\" /><path clip-path=\"url(#clip260)\" d=\"M2258.96 1544.91 L2266.6 1544.91 L2266.6 1518.55 L2258.29 1520.21 L2258.29 1515.95 L2266.55 1514.29 L2271.23 1514.29 L2271.23 1544.91 L2278.87 1544.91 L2278.87 1548.85 L2258.96 1548.85 L2258.96 1544.91 Z\" fill=\"#000000\" fill-rule=\"nonzero\" fill-opacity=\"1\" /><path clip-path=\"url(#clip260)\" d=\"M2288.31 1542.97 L2293.2 1542.97 L2293.2 1548.85 L2288.31 1548.85 L2288.31 1542.97 Z\" fill=\"#000000\" fill-rule=\"nonzero\" fill-opacity=\"1\" /><path clip-path=\"url(#clip260)\" d=\"M2313.38 1517.37 Q2309.77 1517.37 2307.94 1520.93 Q2306.14 1524.47 2306.14 1531.6 Q2306.14 1538.71 2307.94 1542.27 Q2309.77 1545.82 2313.38 1545.82 Q2317.02 1545.82 2318.82 1542.27 Q2320.65 1538.71 2320.65 1531.6 Q2320.65 1524.47 2318.82 1520.93 Q2317.02 1517.37 2313.38 1517.37 M2313.38 1513.66 Q2319.19 1513.66 2322.25 1518.27 Q2325.33 1522.85 2325.33 1531.6 Q2325.33 1540.33 2322.25 1544.94 Q2319.19 1549.52 2313.38 1549.52 Q2307.57 1549.52 2304.49 1544.94 Q2301.44 1540.33 2301.44 1531.6 Q2301.44 1522.85 2304.49 1518.27 Q2307.57 1513.66 2313.38 1513.66 Z\" fill=\"#000000\" fill-rule=\"nonzero\" fill-opacity=\"1\" /><polyline clip-path=\"url(#clip262)\" style=\"stroke:#000000; stroke-linecap:round; stroke-linejoin:round; stroke-width:2; stroke-opacity:0.1; fill:none\" points=\"199.283,1446.83 2352.76,1446.83 \"/>\n",
       "<polyline clip-path=\"url(#clip262)\" style=\"stroke:#000000; stroke-linecap:round; stroke-linejoin:round; stroke-width:2; stroke-opacity:0.1; fill:none\" points=\"199.283,1225.02 2352.76,1225.02 \"/>\n",
       "<polyline clip-path=\"url(#clip262)\" style=\"stroke:#000000; stroke-linecap:round; stroke-linejoin:round; stroke-width:2; stroke-opacity:0.1; fill:none\" points=\"199.283,1003.21 2352.76,1003.21 \"/>\n",
       "<polyline clip-path=\"url(#clip262)\" style=\"stroke:#000000; stroke-linecap:round; stroke-linejoin:round; stroke-width:2; stroke-opacity:0.1; fill:none\" points=\"199.283,781.404 2352.76,781.404 \"/>\n",
       "<polyline clip-path=\"url(#clip262)\" style=\"stroke:#000000; stroke-linecap:round; stroke-linejoin:round; stroke-width:2; stroke-opacity:0.1; fill:none\" points=\"199.283,559.597 2352.76,559.597 \"/>\n",
       "<polyline clip-path=\"url(#clip262)\" style=\"stroke:#000000; stroke-linecap:round; stroke-linejoin:round; stroke-width:2; stroke-opacity:0.1; fill:none\" points=\"199.283,337.789 2352.76,337.789 \"/>\n",
       "<polyline clip-path=\"url(#clip262)\" style=\"stroke:#000000; stroke-linecap:round; stroke-linejoin:round; stroke-width:2; stroke-opacity:0.1; fill:none\" points=\"199.283,115.982 2352.76,115.982 \"/>\n",
       "<polyline clip-path=\"url(#clip260)\" style=\"stroke:#000000; stroke-linecap:round; stroke-linejoin:round; stroke-width:4; stroke-opacity:1; fill:none\" points=\"199.283,1486.45 199.283,47.2441 \"/>\n",
       "<polyline clip-path=\"url(#clip260)\" style=\"stroke:#000000; stroke-linecap:round; stroke-linejoin:round; stroke-width:4; stroke-opacity:1; fill:none\" points=\"199.283,1446.83 218.181,1446.83 \"/>\n",
       "<polyline clip-path=\"url(#clip260)\" style=\"stroke:#000000; stroke-linecap:round; stroke-linejoin:round; stroke-width:4; stroke-opacity:1; fill:none\" points=\"199.283,1225.02 218.181,1225.02 \"/>\n",
       "<polyline clip-path=\"url(#clip260)\" style=\"stroke:#000000; stroke-linecap:round; stroke-linejoin:round; stroke-width:4; stroke-opacity:1; fill:none\" points=\"199.283,1003.21 218.181,1003.21 \"/>\n",
       "<polyline clip-path=\"url(#clip260)\" style=\"stroke:#000000; stroke-linecap:round; stroke-linejoin:round; stroke-width:4; stroke-opacity:1; fill:none\" points=\"199.283,781.404 218.181,781.404 \"/>\n",
       "<polyline clip-path=\"url(#clip260)\" style=\"stroke:#000000; stroke-linecap:round; stroke-linejoin:round; stroke-width:4; stroke-opacity:1; fill:none\" points=\"199.283,559.597 218.181,559.597 \"/>\n",
       "<polyline clip-path=\"url(#clip260)\" style=\"stroke:#000000; stroke-linecap:round; stroke-linejoin:round; stroke-width:4; stroke-opacity:1; fill:none\" points=\"199.283,337.789 218.181,337.789 \"/>\n",
       "<polyline clip-path=\"url(#clip260)\" style=\"stroke:#000000; stroke-linecap:round; stroke-linejoin:round; stroke-width:4; stroke-opacity:1; fill:none\" points=\"199.283,115.982 218.181,115.982 \"/>\n",
       "<path clip-path=\"url(#clip260)\" d=\"M151.339 1432.62 Q147.728 1432.62 145.899 1436.19 Q144.093 1439.73 144.093 1446.86 Q144.093 1453.97 145.899 1457.53 Q147.728 1461.07 151.339 1461.07 Q154.973 1461.07 156.779 1457.53 Q158.607 1453.97 158.607 1446.86 Q158.607 1439.73 156.779 1436.19 Q154.973 1432.62 151.339 1432.62 M151.339 1428.92 Q157.149 1428.92 160.205 1433.53 Q163.283 1438.11 163.283 1446.86 Q163.283 1455.59 160.205 1460.19 Q157.149 1464.78 151.339 1464.78 Q145.529 1464.78 142.45 1460.19 Q139.394 1455.59 139.394 1446.86 Q139.394 1438.11 142.45 1433.53 Q145.529 1428.92 151.339 1428.92 Z\" fill=\"#000000\" fill-rule=\"nonzero\" fill-opacity=\"1\" /><path clip-path=\"url(#clip260)\" d=\"M85.0429 1238.36 L101.362 1238.36 L101.362 1242.3 L79.4179 1242.3 L79.4179 1238.36 Q82.0799 1235.61 86.6632 1230.98 Q91.2697 1226.33 92.4502 1224.98 Q94.6956 1222.46 95.5752 1220.72 Q96.478 1218.96 96.478 1217.27 Q96.478 1214.52 94.5336 1212.78 Q92.6123 1211.05 89.5104 1211.05 Q87.3114 1211.05 84.8577 1211.81 Q82.4271 1212.58 79.6494 1214.13 L79.6494 1209.4 Q82.4734 1208.27 84.9271 1207.69 Q87.3808 1207.11 89.4178 1207.11 Q94.7882 1207.11 97.9826 1209.8 Q101.177 1212.48 101.177 1216.97 Q101.177 1219.1 100.367 1221.02 Q99.5798 1222.92 97.4734 1225.52 Q96.8947 1226.19 93.7928 1229.4 Q90.691 1232.6 85.0429 1238.36 Z\" fill=\"#000000\" fill-rule=\"nonzero\" fill-opacity=\"1\" /><path clip-path=\"url(#clip260)\" d=\"M121.177 1210.82 Q117.566 1210.82 115.737 1214.38 Q113.932 1217.92 113.932 1225.05 Q113.932 1232.16 115.737 1235.72 Q117.566 1239.27 121.177 1239.27 Q124.811 1239.27 126.617 1235.72 Q128.445 1232.16 128.445 1225.05 Q128.445 1217.92 126.617 1214.38 Q124.811 1210.82 121.177 1210.82 M121.177 1207.11 Q126.987 1207.11 130.043 1211.72 Q133.121 1216.3 133.121 1225.05 Q133.121 1233.78 130.043 1238.39 Q126.987 1242.97 121.177 1242.97 Q115.367 1242.97 112.288 1238.39 Q109.233 1233.78 109.233 1225.05 Q109.233 1216.3 112.288 1211.72 Q115.367 1207.11 121.177 1207.11 Z\" fill=\"#000000\" fill-rule=\"nonzero\" fill-opacity=\"1\" /><path clip-path=\"url(#clip260)\" d=\"M151.339 1210.82 Q147.728 1210.82 145.899 1214.38 Q144.093 1217.92 144.093 1225.05 Q144.093 1232.16 145.899 1235.72 Q147.728 1239.27 151.339 1239.27 Q154.973 1239.27 156.779 1235.72 Q158.607 1232.16 158.607 1225.05 Q158.607 1217.92 156.779 1214.38 Q154.973 1210.82 151.339 1210.82 M151.339 1207.11 Q157.149 1207.11 160.205 1211.72 Q163.283 1216.3 163.283 1225.05 Q163.283 1233.78 160.205 1238.39 Q157.149 1242.97 151.339 1242.97 Q145.529 1242.97 142.45 1238.39 Q139.394 1233.78 139.394 1225.05 Q139.394 1216.3 142.45 1211.72 Q145.529 1207.11 151.339 1207.11 Z\" fill=\"#000000\" fill-rule=\"nonzero\" fill-opacity=\"1\" /><path clip-path=\"url(#clip260)\" d=\"M93.8623 990.005 L82.0568 1008.45 L93.8623 1008.45 L93.8623 990.005 M92.6354 985.931 L98.515 985.931 L98.515 1008.45 L103.446 1008.45 L103.446 1012.34 L98.515 1012.34 L98.515 1020.49 L93.8623 1020.49 L93.8623 1012.34 L78.2605 1012.34 L78.2605 1007.83 L92.6354 985.931 Z\" fill=\"#000000\" fill-rule=\"nonzero\" fill-opacity=\"1\" /><path clip-path=\"url(#clip260)\" d=\"M121.177 989.009 Q117.566 989.009 115.737 992.574 Q113.932 996.116 113.932 1003.25 Q113.932 1010.35 115.737 1013.92 Q117.566 1017.46 121.177 1017.46 Q124.811 1017.46 126.617 1013.92 Q128.445 1010.35 128.445 1003.25 Q128.445 996.116 126.617 992.574 Q124.811 989.009 121.177 989.009 M121.177 985.306 Q126.987 985.306 130.043 989.912 Q133.121 994.496 133.121 1003.25 Q133.121 1011.97 130.043 1016.58 Q126.987 1021.16 121.177 1021.16 Q115.367 1021.16 112.288 1016.58 Q109.233 1011.97 109.233 1003.25 Q109.233 994.496 112.288 989.912 Q115.367 985.306 121.177 985.306 Z\" fill=\"#000000\" fill-rule=\"nonzero\" fill-opacity=\"1\" /><path clip-path=\"url(#clip260)\" d=\"M151.339 989.009 Q147.728 989.009 145.899 992.574 Q144.093 996.116 144.093 1003.25 Q144.093 1010.35 145.899 1013.92 Q147.728 1017.46 151.339 1017.46 Q154.973 1017.46 156.779 1013.92 Q158.607 1010.35 158.607 1003.25 Q158.607 996.116 156.779 992.574 Q154.973 989.009 151.339 989.009 M151.339 985.306 Q157.149 985.306 160.205 989.912 Q163.283 994.496 163.283 1003.25 Q163.283 1011.97 160.205 1016.58 Q157.149 1021.16 151.339 1021.16 Q145.529 1021.16 142.45 1016.58 Q139.394 1011.97 139.394 1003.25 Q139.394 994.496 142.45 989.912 Q145.529 985.306 151.339 985.306 Z\" fill=\"#000000\" fill-rule=\"nonzero\" fill-opacity=\"1\" /><path clip-path=\"url(#clip260)\" d=\"M91.5938 779.54 Q88.4456 779.54 86.5938 781.693 Q84.7651 783.846 84.7651 787.596 Q84.7651 791.323 86.5938 793.499 Q88.4456 795.651 91.5938 795.651 Q94.7419 795.651 96.5706 793.499 Q98.4224 791.323 98.4224 787.596 Q98.4224 783.846 96.5706 781.693 Q94.7419 779.54 91.5938 779.54 M100.876 764.888 L100.876 769.147 Q99.1169 768.313 97.3113 767.874 Q95.5289 767.434 93.7697 767.434 Q89.1401 767.434 86.6864 770.559 Q84.2558 773.684 83.9086 780.003 Q85.2743 777.989 87.3345 776.925 Q89.3947 775.837 91.8715 775.837 Q97.0798 775.837 100.089 779.008 Q103.121 782.156 103.121 787.596 Q103.121 792.92 99.9733 796.137 Q96.8252 799.355 91.5938 799.355 Q85.5984 799.355 82.4271 794.772 Q79.2559 790.165 79.2559 781.438 Q79.2559 773.244 83.1447 768.383 Q87.0336 763.499 93.5845 763.499 Q95.3437 763.499 97.1261 763.846 Q98.9317 764.193 100.876 764.888 Z\" fill=\"#000000\" fill-rule=\"nonzero\" fill-opacity=\"1\" /><path clip-path=\"url(#clip260)\" d=\"M121.177 767.202 Q117.566 767.202 115.737 770.767 Q113.932 774.309 113.932 781.438 Q113.932 788.545 115.737 792.11 Q117.566 795.651 121.177 795.651 Q124.811 795.651 126.617 792.11 Q128.445 788.545 128.445 781.438 Q128.445 774.309 126.617 770.767 Q124.811 767.202 121.177 767.202 M121.177 763.499 Q126.987 763.499 130.043 768.105 Q133.121 772.688 133.121 781.438 Q133.121 790.165 130.043 794.772 Q126.987 799.355 121.177 799.355 Q115.367 799.355 112.288 794.772 Q109.233 790.165 109.233 781.438 Q109.233 772.688 112.288 768.105 Q115.367 763.499 121.177 763.499 Z\" fill=\"#000000\" fill-rule=\"nonzero\" fill-opacity=\"1\" /><path clip-path=\"url(#clip260)\" d=\"M151.339 767.202 Q147.728 767.202 145.899 770.767 Q144.093 774.309 144.093 781.438 Q144.093 788.545 145.899 792.11 Q147.728 795.651 151.339 795.651 Q154.973 795.651 156.779 792.11 Q158.607 788.545 158.607 781.438 Q158.607 774.309 156.779 770.767 Q154.973 767.202 151.339 767.202 M151.339 763.499 Q157.149 763.499 160.205 768.105 Q163.283 772.688 163.283 781.438 Q163.283 790.165 160.205 794.772 Q157.149 799.355 151.339 799.355 Q145.529 799.355 142.45 794.772 Q139.394 790.165 139.394 781.438 Q139.394 772.688 142.45 768.105 Q145.529 763.499 151.339 763.499 Z\" fill=\"#000000\" fill-rule=\"nonzero\" fill-opacity=\"1\" /><path clip-path=\"url(#clip260)\" d=\"M91.0151 560.465 Q87.6817 560.465 85.7605 562.247 Q83.8623 564.029 83.8623 567.154 Q83.8623 570.279 85.7605 572.062 Q87.6817 573.844 91.0151 573.844 Q94.3484 573.844 96.2697 572.062 Q98.1909 570.256 98.1909 567.154 Q98.1909 564.029 96.2697 562.247 Q94.3715 560.465 91.0151 560.465 M86.3392 558.474 Q83.3299 557.733 81.6401 555.673 Q79.9735 553.613 79.9735 550.65 Q79.9735 546.506 82.9133 544.099 Q85.8762 541.692 91.0151 541.692 Q96.1771 541.692 99.1169 544.099 Q102.057 546.506 102.057 550.65 Q102.057 553.613 100.367 555.673 Q98.7002 557.733 95.7141 558.474 Q99.0937 559.261 100.969 561.553 Q102.867 563.844 102.867 567.154 Q102.867 572.177 99.7882 574.863 Q96.7326 577.548 91.0151 577.548 Q85.2975 577.548 82.2188 574.863 Q79.1633 572.177 79.1633 567.154 Q79.1633 563.844 81.0614 561.553 Q82.9595 559.261 86.3392 558.474 M84.6262 551.09 Q84.6262 553.775 86.2929 555.279 Q87.9827 556.784 91.0151 556.784 Q94.0243 556.784 95.7141 555.279 Q97.4271 553.775 97.4271 551.09 Q97.4271 548.404 95.7141 546.9 Q94.0243 545.395 91.0151 545.395 Q87.9827 545.395 86.2929 546.9 Q84.6262 548.404 84.6262 551.09 Z\" fill=\"#000000\" fill-rule=\"nonzero\" fill-opacity=\"1\" /><path clip-path=\"url(#clip260)\" d=\"M121.177 545.395 Q117.566 545.395 115.737 548.96 Q113.932 552.502 113.932 559.631 Q113.932 566.738 115.737 570.302 Q117.566 573.844 121.177 573.844 Q124.811 573.844 126.617 570.302 Q128.445 566.738 128.445 559.631 Q128.445 552.502 126.617 548.96 Q124.811 545.395 121.177 545.395 M121.177 541.692 Q126.987 541.692 130.043 546.298 Q133.121 550.881 133.121 559.631 Q133.121 568.358 130.043 572.965 Q126.987 577.548 121.177 577.548 Q115.367 577.548 112.288 572.965 Q109.233 568.358 109.233 559.631 Q109.233 550.881 112.288 546.298 Q115.367 541.692 121.177 541.692 Z\" fill=\"#000000\" fill-rule=\"nonzero\" fill-opacity=\"1\" /><path clip-path=\"url(#clip260)\" d=\"M151.339 545.395 Q147.728 545.395 145.899 548.96 Q144.093 552.502 144.093 559.631 Q144.093 566.738 145.899 570.302 Q147.728 573.844 151.339 573.844 Q154.973 573.844 156.779 570.302 Q158.607 566.738 158.607 559.631 Q158.607 552.502 156.779 548.96 Q154.973 545.395 151.339 545.395 M151.339 541.692 Q157.149 541.692 160.205 546.298 Q163.283 550.881 163.283 559.631 Q163.283 568.358 160.205 572.965 Q157.149 577.548 151.339 577.548 Q145.529 577.548 142.45 572.965 Q139.394 568.358 139.394 559.631 Q139.394 550.881 142.45 546.298 Q145.529 541.692 151.339 541.692 Z\" fill=\"#000000\" fill-rule=\"nonzero\" fill-opacity=\"1\" /><path clip-path=\"url(#clip260)\" d=\"M51.6634 351.134 L59.3023 351.134 L59.3023 324.769 L50.9921 326.435 L50.9921 322.176 L59.256 320.509 L63.9319 320.509 L63.9319 351.134 L71.5707 351.134 L71.5707 355.069 L51.6634 355.069 L51.6634 351.134 Z\" fill=\"#000000\" fill-rule=\"nonzero\" fill-opacity=\"1\" /><path clip-path=\"url(#clip260)\" d=\"M91.0151 323.588 Q87.404 323.588 85.5753 327.153 Q83.7697 330.695 83.7697 337.824 Q83.7697 344.931 85.5753 348.495 Q87.404 352.037 91.0151 352.037 Q94.6493 352.037 96.4548 348.495 Q98.2835 344.931 98.2835 337.824 Q98.2835 330.695 96.4548 327.153 Q94.6493 323.588 91.0151 323.588 M91.0151 319.884 Q96.8252 319.884 99.8808 324.491 Q102.959 329.074 102.959 337.824 Q102.959 346.551 99.8808 351.157 Q96.8252 355.741 91.0151 355.741 Q85.2049 355.741 82.1262 351.157 Q79.0707 346.551 79.0707 337.824 Q79.0707 329.074 82.1262 324.491 Q85.2049 319.884 91.0151 319.884 Z\" fill=\"#000000\" fill-rule=\"nonzero\" fill-opacity=\"1\" /><path clip-path=\"url(#clip260)\" d=\"M121.177 323.588 Q117.566 323.588 115.737 327.153 Q113.932 330.695 113.932 337.824 Q113.932 344.931 115.737 348.495 Q117.566 352.037 121.177 352.037 Q124.811 352.037 126.617 348.495 Q128.445 344.931 128.445 337.824 Q128.445 330.695 126.617 327.153 Q124.811 323.588 121.177 323.588 M121.177 319.884 Q126.987 319.884 130.043 324.491 Q133.121 329.074 133.121 337.824 Q133.121 346.551 130.043 351.157 Q126.987 355.741 121.177 355.741 Q115.367 355.741 112.288 351.157 Q109.233 346.551 109.233 337.824 Q109.233 329.074 112.288 324.491 Q115.367 319.884 121.177 319.884 Z\" fill=\"#000000\" fill-rule=\"nonzero\" fill-opacity=\"1\" /><path clip-path=\"url(#clip260)\" d=\"M151.339 323.588 Q147.728 323.588 145.899 327.153 Q144.093 330.695 144.093 337.824 Q144.093 344.931 145.899 348.495 Q147.728 352.037 151.339 352.037 Q154.973 352.037 156.779 348.495 Q158.607 344.931 158.607 337.824 Q158.607 330.695 156.779 327.153 Q154.973 323.588 151.339 323.588 M151.339 319.884 Q157.149 319.884 160.205 324.491 Q163.283 329.074 163.283 337.824 Q163.283 346.551 160.205 351.157 Q157.149 355.741 151.339 355.741 Q145.529 355.741 142.45 351.157 Q139.394 346.551 139.394 337.824 Q139.394 329.074 142.45 324.491 Q145.529 319.884 151.339 319.884 Z\" fill=\"#000000\" fill-rule=\"nonzero\" fill-opacity=\"1\" /><path clip-path=\"url(#clip260)\" d=\"M51.6634 129.327 L59.3023 129.327 L59.3023 102.962 L50.9921 104.628 L50.9921 100.369 L59.256 98.7023 L63.9319 98.7023 L63.9319 129.327 L71.5707 129.327 L71.5707 133.262 L51.6634 133.262 L51.6634 129.327 Z\" fill=\"#000000\" fill-rule=\"nonzero\" fill-opacity=\"1\" /><path clip-path=\"url(#clip260)\" d=\"M85.0429 129.327 L101.362 129.327 L101.362 133.262 L79.4179 133.262 L79.4179 129.327 Q82.0799 126.572 86.6632 121.943 Q91.2697 117.29 92.4502 115.948 Q94.6956 113.424 95.5752 111.688 Q96.478 109.929 96.478 108.239 Q96.478 105.485 94.5336 103.749 Q92.6123 102.012 89.5104 102.012 Q87.3114 102.012 84.8577 102.776 Q82.4271 103.54 79.6494 105.091 L79.6494 100.369 Q82.4734 99.2347 84.9271 98.656 Q87.3808 98.0773 89.4178 98.0773 Q94.7882 98.0773 97.9826 100.762 Q101.177 103.448 101.177 107.938 Q101.177 110.068 100.367 111.989 Q99.5798 113.887 97.4734 116.48 Q96.8947 117.151 93.7928 120.369 Q90.691 123.563 85.0429 129.327 Z\" fill=\"#000000\" fill-rule=\"nonzero\" fill-opacity=\"1\" /><path clip-path=\"url(#clip260)\" d=\"M121.177 101.781 Q117.566 101.781 115.737 105.346 Q113.932 108.887 113.932 116.017 Q113.932 123.123 115.737 126.688 Q117.566 130.23 121.177 130.23 Q124.811 130.23 126.617 126.688 Q128.445 123.123 128.445 116.017 Q128.445 108.887 126.617 105.346 Q124.811 101.781 121.177 101.781 M121.177 98.0773 Q126.987 98.0773 130.043 102.684 Q133.121 107.267 133.121 116.017 Q133.121 124.744 130.043 129.35 Q126.987 133.934 121.177 133.934 Q115.367 133.934 112.288 129.35 Q109.233 124.744 109.233 116.017 Q109.233 107.267 112.288 102.684 Q115.367 98.0773 121.177 98.0773 Z\" fill=\"#000000\" fill-rule=\"nonzero\" fill-opacity=\"1\" /><path clip-path=\"url(#clip260)\" d=\"M151.339 101.781 Q147.728 101.781 145.899 105.346 Q144.093 108.887 144.093 116.017 Q144.093 123.123 145.899 126.688 Q147.728 130.23 151.339 130.23 Q154.973 130.23 156.779 126.688 Q158.607 123.123 158.607 116.017 Q158.607 108.887 156.779 105.346 Q154.973 101.781 151.339 101.781 M151.339 98.0773 Q157.149 98.0773 160.205 102.684 Q163.283 107.267 163.283 116.017 Q163.283 124.744 160.205 129.35 Q157.149 133.934 151.339 133.934 Q145.529 133.934 142.45 129.35 Q139.394 124.744 139.394 116.017 Q139.394 107.267 142.45 102.684 Q145.529 98.0773 151.339 98.0773 Z\" fill=\"#000000\" fill-rule=\"nonzero\" fill-opacity=\"1\" /><polyline clip-path=\"url(#clip262)\" style=\"stroke:#009af9; stroke-linecap:round; stroke-linejoin:round; stroke-width:4; stroke-opacity:1; fill:none\" points=\"280.752,87.9763 301.273,1107 321.794,1295.71 342.314,1361.76 362.835,1392.32 383.356,1408.93 403.877,1418.94 424.398,1425.43 444.919,1429.88 465.44,1433.07 485.961,1435.42 506.482,1437.21 527.003,1438.6 547.524,1439.7 568.045,1440.59 588.566,1441.32 609.087,1441.92 629.608,1442.42 650.129,1442.85 670.65,1443.21 691.171,1443.52 711.692,1443.79 732.213,1444.02 752.734,1444.22 773.255,1444.4 793.776,1444.56 814.297,1444.7 834.818,1444.82 855.339,1444.93 875.86,1445.03 896.381,1445.12 916.902,1445.2 937.423,1445.27 957.944,1445.33 978.465,1445.38 998.986,1445.43 1019.51,1445.48 1040.03,1445.52 1060.55,1445.55 1081.07,1445.59 1101.59,1445.61 1122.11,1445.64 1142.63,1445.66 1163.15,1445.67 1183.68,1445.69 1204.2,1445.7 1224.72,1445.71 1245.24,1445.71 1265.76,1445.72 1286.28,1445.72 1306.8,1445.71 1327.32,1445.71 1347.84,1445.7 1368.36,1445.69 1388.88,1445.67 1409.41,1445.66 1429.93,1445.64 1450.45,1445.61 1470.97,1445.59 1491.49,1445.55 1512.01,1445.52 1532.53,1445.48 1553.05,1445.43 1573.57,1445.38 1594.09,1445.33 1614.62,1445.27 1635.14,1445.2 1655.66,1445.12 1676.18,1445.03 1696.7,1444.93 1717.22,1444.82 1737.74,1444.7 1758.26,1444.56 1778.78,1444.4 1799.3,1444.22 1819.83,1444.02 1840.35,1443.79 1860.87,1443.52 1881.39,1443.21 1901.91,1442.85 1922.43,1442.42 1942.95,1441.92 1963.47,1441.32 1983.99,1440.59 2004.51,1439.7 2025.04,1438.6 2045.56,1437.21 2066.08,1435.42 2086.6,1433.07 2107.12,1429.88 2127.64,1425.43 2148.16,1418.94 2168.68,1408.93 2189.2,1392.32 2209.72,1361.76 2230.25,1295.71 2250.77,1107 2271.29,87.9763 \"/>\n",
       "<path clip-path=\"url(#clip260)\" d=\"M2013.2 198.898 L2280.97 198.898 L2280.97 95.2176 L2013.2 95.2176  Z\" fill=\"#ffffff\" fill-rule=\"evenodd\" fill-opacity=\"1\"/>\n",
       "<polyline clip-path=\"url(#clip260)\" style=\"stroke:#000000; stroke-linecap:round; stroke-linejoin:round; stroke-width:4; stroke-opacity:1; fill:none\" points=\"2013.2,198.898 2280.97,198.898 2280.97,95.2176 2013.2,95.2176 2013.2,198.898 \"/>\n",
       "<polyline clip-path=\"url(#clip260)\" style=\"stroke:#009af9; stroke-linecap:round; stroke-linejoin:round; stroke-width:4; stroke-opacity:1; fill:none\" points=\"2037.12,147.058 2180.69,147.058 \"/>\n",
       "<path clip-path=\"url(#clip260)\" d=\"M2218.46 166.745 Q2216.65 171.375 2214.94 172.787 Q2213.23 174.199 2210.36 174.199 L2206.95 174.199 L2206.95 170.634 L2209.45 170.634 Q2211.21 170.634 2212.19 169.8 Q2213.16 168.967 2214.34 165.865 L2215.1 163.921 L2204.62 138.412 L2209.13 138.412 L2217.23 158.689 L2225.33 138.412 L2229.85 138.412 L2218.46 166.745 Z\" fill=\"#000000\" fill-rule=\"nonzero\" fill-opacity=\"1\" /><path clip-path=\"url(#clip260)\" d=\"M2237.14 160.402 L2244.78 160.402 L2244.78 134.037 L2236.47 135.703 L2236.47 131.444 L2244.73 129.778 L2249.41 129.778 L2249.41 160.402 L2257.05 160.402 L2257.05 164.338 L2237.14 164.338 L2237.14 160.402 Z\" fill=\"#000000\" fill-rule=\"nonzero\" fill-opacity=\"1\" /></svg>\n"
      ],
      "text/html": [
       "<?xml version=\"1.0\" encoding=\"utf-8\"?>\n",
       "<svg xmlns=\"http://www.w3.org/2000/svg\" xmlns:xlink=\"http://www.w3.org/1999/xlink\" width=\"600\" height=\"400\" viewBox=\"0 0 2400 1600\">\n",
       "<defs>\n",
       "  <clipPath id=\"clip310\">\n",
       "    <rect x=\"0\" y=\"0\" width=\"2400\" height=\"1600\"/>\n",
       "  </clipPath>\n",
       "</defs>\n",
       "<path clip-path=\"url(#clip310)\" d=\"M0 1600 L2400 1600 L2400 0 L0 0  Z\" fill=\"#ffffff\" fill-rule=\"evenodd\" fill-opacity=\"1\"/>\n",
       "<defs>\n",
       "  <clipPath id=\"clip311\">\n",
       "    <rect x=\"480\" y=\"0\" width=\"1681\" height=\"1600\"/>\n",
       "  </clipPath>\n",
       "</defs>\n",
       "<path clip-path=\"url(#clip310)\" d=\"M199.283 1486.45 L2352.76 1486.45 L2352.76 47.2441 L199.283 47.2441  Z\" fill=\"#ffffff\" fill-rule=\"evenodd\" fill-opacity=\"1\"/>\n",
       "<defs>\n",
       "  <clipPath id=\"clip312\">\n",
       "    <rect x=\"199\" y=\"47\" width=\"2154\" height=\"1440\"/>\n",
       "  </clipPath>\n",
       "</defs>\n",
       "<polyline clip-path=\"url(#clip312)\" style=\"stroke:#000000; stroke-linecap:round; stroke-linejoin:round; stroke-width:2; stroke-opacity:0.1; fill:none\" points=\"260.231,1486.45 260.231,47.2441 \"/>\n",
       "<polyline clip-path=\"url(#clip312)\" style=\"stroke:#000000; stroke-linecap:round; stroke-linejoin:round; stroke-width:2; stroke-opacity:0.1; fill:none\" points=\"768.125,1486.45 768.125,47.2441 \"/>\n",
       "<polyline clip-path=\"url(#clip312)\" style=\"stroke:#000000; stroke-linecap:round; stroke-linejoin:round; stroke-width:2; stroke-opacity:0.1; fill:none\" points=\"1276.02,1486.45 1276.02,47.2441 \"/>\n",
       "<polyline clip-path=\"url(#clip312)\" style=\"stroke:#000000; stroke-linecap:round; stroke-linejoin:round; stroke-width:2; stroke-opacity:0.1; fill:none\" points=\"1783.91,1486.45 1783.91,47.2441 \"/>\n",
       "<polyline clip-path=\"url(#clip312)\" style=\"stroke:#000000; stroke-linecap:round; stroke-linejoin:round; stroke-width:2; stroke-opacity:0.1; fill:none\" points=\"2291.81,1486.45 2291.81,47.2441 \"/>\n",
       "<polyline clip-path=\"url(#clip310)\" style=\"stroke:#000000; stroke-linecap:round; stroke-linejoin:round; stroke-width:4; stroke-opacity:1; fill:none\" points=\"199.283,1486.45 2352.76,1486.45 \"/>\n",
       "<polyline clip-path=\"url(#clip310)\" style=\"stroke:#000000; stroke-linecap:round; stroke-linejoin:round; stroke-width:4; stroke-opacity:1; fill:none\" points=\"260.231,1486.45 260.231,1467.55 \"/>\n",
       "<polyline clip-path=\"url(#clip310)\" style=\"stroke:#000000; stroke-linecap:round; stroke-linejoin:round; stroke-width:4; stroke-opacity:1; fill:none\" points=\"768.125,1486.45 768.125,1467.55 \"/>\n",
       "<polyline clip-path=\"url(#clip310)\" style=\"stroke:#000000; stroke-linecap:round; stroke-linejoin:round; stroke-width:4; stroke-opacity:1; fill:none\" points=\"1276.02,1486.45 1276.02,1467.55 \"/>\n",
       "<polyline clip-path=\"url(#clip310)\" style=\"stroke:#000000; stroke-linecap:round; stroke-linejoin:round; stroke-width:4; stroke-opacity:1; fill:none\" points=\"1783.91,1486.45 1783.91,1467.55 \"/>\n",
       "<polyline clip-path=\"url(#clip310)\" style=\"stroke:#000000; stroke-linecap:round; stroke-linejoin:round; stroke-width:4; stroke-opacity:1; fill:none\" points=\"2291.81,1486.45 2291.81,1467.55 \"/>\n",
       "<path clip-path=\"url(#clip310)\" d=\"M206.759 1532.02 L236.434 1532.02 L236.434 1535.95 L206.759 1535.95 L206.759 1532.02 Z\" fill=\"#000000\" fill-rule=\"nonzero\" fill-opacity=\"1\" /><path clip-path=\"url(#clip310)\" d=\"M247.337 1544.91 L254.976 1544.91 L254.976 1518.55 L246.666 1520.21 L246.666 1515.95 L254.93 1514.29 L259.606 1514.29 L259.606 1544.91 L267.244 1544.91 L267.244 1548.85 L247.337 1548.85 L247.337 1544.91 Z\" fill=\"#000000\" fill-rule=\"nonzero\" fill-opacity=\"1\" /><path clip-path=\"url(#clip310)\" d=\"M276.689 1542.97 L281.573 1542.97 L281.573 1548.85 L276.689 1548.85 L276.689 1542.97 Z\" fill=\"#000000\" fill-rule=\"nonzero\" fill-opacity=\"1\" /><path clip-path=\"url(#clip310)\" d=\"M301.758 1517.37 Q298.147 1517.37 296.318 1520.93 Q294.513 1524.47 294.513 1531.6 Q294.513 1538.71 296.318 1542.27 Q298.147 1545.82 301.758 1545.82 Q305.392 1545.82 307.198 1542.27 Q309.027 1538.71 309.027 1531.6 Q309.027 1524.47 307.198 1520.93 Q305.392 1517.37 301.758 1517.37 M301.758 1513.66 Q307.568 1513.66 310.624 1518.27 Q313.702 1522.85 313.702 1531.6 Q313.702 1540.33 310.624 1544.94 Q307.568 1549.52 301.758 1549.52 Q295.948 1549.52 292.869 1544.94 Q289.814 1540.33 289.814 1531.6 Q289.814 1522.85 292.869 1518.27 Q295.948 1513.66 301.758 1513.66 Z\" fill=\"#000000\" fill-rule=\"nonzero\" fill-opacity=\"1\" /><path clip-path=\"url(#clip310)\" d=\"M715.151 1532.02 L744.827 1532.02 L744.827 1535.95 L715.151 1535.95 L715.151 1532.02 Z\" fill=\"#000000\" fill-rule=\"nonzero\" fill-opacity=\"1\" /><path clip-path=\"url(#clip310)\" d=\"M764.919 1517.37 Q761.308 1517.37 759.479 1520.93 Q757.674 1524.47 757.674 1531.6 Q757.674 1538.71 759.479 1542.27 Q761.308 1545.82 764.919 1545.82 Q768.553 1545.82 770.359 1542.27 Q772.188 1538.71 772.188 1531.6 Q772.188 1524.47 770.359 1520.93 Q768.553 1517.37 764.919 1517.37 M764.919 1513.66 Q770.729 1513.66 773.785 1518.27 Q776.863 1522.85 776.863 1531.6 Q776.863 1540.33 773.785 1544.94 Q770.729 1549.52 764.919 1549.52 Q759.109 1549.52 756.03 1544.94 Q752.975 1540.33 752.975 1531.6 Q752.975 1522.85 756.03 1518.27 Q759.109 1513.66 764.919 1513.66 Z\" fill=\"#000000\" fill-rule=\"nonzero\" fill-opacity=\"1\" /><path clip-path=\"url(#clip310)\" d=\"M785.081 1542.97 L789.965 1542.97 L789.965 1548.85 L785.081 1548.85 L785.081 1542.97 Z\" fill=\"#000000\" fill-rule=\"nonzero\" fill-opacity=\"1\" /><path clip-path=\"url(#clip310)\" d=\"M800.197 1514.29 L818.553 1514.29 L818.553 1518.22 L804.479 1518.22 L804.479 1526.7 Q805.498 1526.35 806.516 1526.19 Q807.535 1526 808.553 1526 Q814.34 1526 817.72 1529.17 Q821.099 1532.34 821.099 1537.76 Q821.099 1543.34 817.627 1546.44 Q814.155 1549.52 807.835 1549.52 Q805.66 1549.52 803.391 1549.15 Q801.146 1548.78 798.738 1548.04 L798.738 1543.34 Q800.822 1544.47 803.044 1545.03 Q805.266 1545.58 807.743 1545.58 Q811.747 1545.58 814.085 1543.48 Q816.423 1541.37 816.423 1537.76 Q816.423 1534.15 814.085 1532.04 Q811.747 1529.94 807.743 1529.94 Q805.868 1529.94 803.993 1530.35 Q802.141 1530.77 800.197 1531.65 L800.197 1514.29 Z\" fill=\"#000000\" fill-rule=\"nonzero\" fill-opacity=\"1\" /><path clip-path=\"url(#clip310)\" d=\"M1253.4 1517.37 Q1249.79 1517.37 1247.96 1520.93 Q1246.16 1524.47 1246.16 1531.6 Q1246.16 1538.71 1247.96 1542.27 Q1249.79 1545.82 1253.4 1545.82 Q1257.04 1545.82 1258.84 1542.27 Q1260.67 1538.71 1260.67 1531.6 Q1260.67 1524.47 1258.84 1520.93 Q1257.04 1517.37 1253.4 1517.37 M1253.4 1513.66 Q1259.21 1513.66 1262.27 1518.27 Q1265.35 1522.85 1265.35 1531.6 Q1265.35 1540.33 1262.27 1544.94 Q1259.21 1549.52 1253.4 1549.52 Q1247.59 1549.52 1244.52 1544.94 Q1241.46 1540.33 1241.46 1531.6 Q1241.46 1522.85 1244.52 1518.27 Q1247.59 1513.66 1253.4 1513.66 Z\" fill=\"#000000\" fill-rule=\"nonzero\" fill-opacity=\"1\" /><path clip-path=\"url(#clip310)\" d=\"M1273.57 1542.97 L1278.45 1542.97 L1278.45 1548.85 L1273.57 1548.85 L1273.57 1542.97 Z\" fill=\"#000000\" fill-rule=\"nonzero\" fill-opacity=\"1\" /><path clip-path=\"url(#clip310)\" d=\"M1298.64 1517.37 Q1295.02 1517.37 1293.2 1520.93 Q1291.39 1524.47 1291.39 1531.6 Q1291.39 1538.71 1293.2 1542.27 Q1295.02 1545.82 1298.64 1545.82 Q1302.27 1545.82 1304.07 1542.27 Q1305.9 1538.71 1305.9 1531.6 Q1305.9 1524.47 1304.07 1520.93 Q1302.27 1517.37 1298.64 1517.37 M1298.64 1513.66 Q1304.45 1513.66 1307.5 1518.27 Q1310.58 1522.85 1310.58 1531.6 Q1310.58 1540.33 1307.5 1544.94 Q1304.45 1549.52 1298.64 1549.52 Q1292.83 1549.52 1289.75 1544.94 Q1286.69 1540.33 1286.69 1531.6 Q1286.69 1522.85 1289.75 1518.27 Q1292.83 1513.66 1298.64 1513.66 Z\" fill=\"#000000\" fill-rule=\"nonzero\" fill-opacity=\"1\" /><path clip-path=\"url(#clip310)\" d=\"M1761.8 1517.37 Q1758.19 1517.37 1756.36 1520.93 Q1754.55 1524.47 1754.55 1531.6 Q1754.55 1538.71 1756.36 1542.27 Q1758.19 1545.82 1761.8 1545.82 Q1765.43 1545.82 1767.24 1542.27 Q1769.06 1538.71 1769.06 1531.6 Q1769.06 1524.47 1767.24 1520.93 Q1765.43 1517.37 1761.8 1517.37 M1761.8 1513.66 Q1767.61 1513.66 1770.66 1518.27 Q1773.74 1522.85 1773.74 1531.6 Q1773.74 1540.33 1770.66 1544.94 Q1767.61 1549.52 1761.8 1549.52 Q1755.99 1549.52 1752.91 1544.94 Q1749.85 1540.33 1749.85 1531.6 Q1749.85 1522.85 1752.91 1518.27 Q1755.99 1513.66 1761.8 1513.66 Z\" fill=\"#000000\" fill-rule=\"nonzero\" fill-opacity=\"1\" /><path clip-path=\"url(#clip310)\" d=\"M1781.96 1542.97 L1786.84 1542.97 L1786.84 1548.85 L1781.96 1548.85 L1781.96 1542.97 Z\" fill=\"#000000\" fill-rule=\"nonzero\" fill-opacity=\"1\" /><path clip-path=\"url(#clip310)\" d=\"M1797.07 1514.29 L1815.43 1514.29 L1815.43 1518.22 L1801.36 1518.22 L1801.36 1526.7 Q1802.37 1526.35 1803.39 1526.19 Q1804.41 1526 1805.43 1526 Q1811.22 1526 1814.6 1529.17 Q1817.98 1532.34 1817.98 1537.76 Q1817.98 1543.34 1814.5 1546.44 Q1811.03 1549.52 1804.71 1549.52 Q1802.54 1549.52 1800.27 1549.15 Q1798.02 1548.78 1795.62 1548.04 L1795.62 1543.34 Q1797.7 1544.47 1799.92 1545.03 Q1802.14 1545.58 1804.62 1545.58 Q1808.62 1545.58 1810.96 1543.48 Q1813.3 1541.37 1813.3 1537.76 Q1813.3 1534.15 1810.96 1532.04 Q1808.62 1529.94 1804.62 1529.94 Q1802.74 1529.94 1800.87 1530.35 Q1799.02 1530.77 1797.07 1531.65 L1797.07 1514.29 Z\" fill=\"#000000\" fill-rule=\"nonzero\" fill-opacity=\"1\" /><path clip-path=\"url(#clip310)\" d=\"M2258.96 1544.91 L2266.6 1544.91 L2266.6 1518.55 L2258.29 1520.21 L2258.29 1515.95 L2266.55 1514.29 L2271.23 1514.29 L2271.23 1544.91 L2278.87 1544.91 L2278.87 1548.85 L2258.96 1548.85 L2258.96 1544.91 Z\" fill=\"#000000\" fill-rule=\"nonzero\" fill-opacity=\"1\" /><path clip-path=\"url(#clip310)\" d=\"M2288.31 1542.97 L2293.2 1542.97 L2293.2 1548.85 L2288.31 1548.85 L2288.31 1542.97 Z\" fill=\"#000000\" fill-rule=\"nonzero\" fill-opacity=\"1\" /><path clip-path=\"url(#clip310)\" d=\"M2313.38 1517.37 Q2309.77 1517.37 2307.94 1520.93 Q2306.14 1524.47 2306.14 1531.6 Q2306.14 1538.71 2307.94 1542.27 Q2309.77 1545.82 2313.38 1545.82 Q2317.02 1545.82 2318.82 1542.27 Q2320.65 1538.71 2320.65 1531.6 Q2320.65 1524.47 2318.82 1520.93 Q2317.02 1517.37 2313.38 1517.37 M2313.38 1513.66 Q2319.19 1513.66 2322.25 1518.27 Q2325.33 1522.85 2325.33 1531.6 Q2325.33 1540.33 2322.25 1544.94 Q2319.19 1549.52 2313.38 1549.52 Q2307.57 1549.52 2304.49 1544.94 Q2301.44 1540.33 2301.44 1531.6 Q2301.44 1522.85 2304.49 1518.27 Q2307.57 1513.66 2313.38 1513.66 Z\" fill=\"#000000\" fill-rule=\"nonzero\" fill-opacity=\"1\" /><polyline clip-path=\"url(#clip312)\" style=\"stroke:#000000; stroke-linecap:round; stroke-linejoin:round; stroke-width:2; stroke-opacity:0.1; fill:none\" points=\"199.283,1446.83 2352.76,1446.83 \"/>\n",
       "<polyline clip-path=\"url(#clip312)\" style=\"stroke:#000000; stroke-linecap:round; stroke-linejoin:round; stroke-width:2; stroke-opacity:0.1; fill:none\" points=\"199.283,1225.02 2352.76,1225.02 \"/>\n",
       "<polyline clip-path=\"url(#clip312)\" style=\"stroke:#000000; stroke-linecap:round; stroke-linejoin:round; stroke-width:2; stroke-opacity:0.1; fill:none\" points=\"199.283,1003.21 2352.76,1003.21 \"/>\n",
       "<polyline clip-path=\"url(#clip312)\" style=\"stroke:#000000; stroke-linecap:round; stroke-linejoin:round; stroke-width:2; stroke-opacity:0.1; fill:none\" points=\"199.283,781.404 2352.76,781.404 \"/>\n",
       "<polyline clip-path=\"url(#clip312)\" style=\"stroke:#000000; stroke-linecap:round; stroke-linejoin:round; stroke-width:2; stroke-opacity:0.1; fill:none\" points=\"199.283,559.597 2352.76,559.597 \"/>\n",
       "<polyline clip-path=\"url(#clip312)\" style=\"stroke:#000000; stroke-linecap:round; stroke-linejoin:round; stroke-width:2; stroke-opacity:0.1; fill:none\" points=\"199.283,337.789 2352.76,337.789 \"/>\n",
       "<polyline clip-path=\"url(#clip312)\" style=\"stroke:#000000; stroke-linecap:round; stroke-linejoin:round; stroke-width:2; stroke-opacity:0.1; fill:none\" points=\"199.283,115.982 2352.76,115.982 \"/>\n",
       "<polyline clip-path=\"url(#clip310)\" style=\"stroke:#000000; stroke-linecap:round; stroke-linejoin:round; stroke-width:4; stroke-opacity:1; fill:none\" points=\"199.283,1486.45 199.283,47.2441 \"/>\n",
       "<polyline clip-path=\"url(#clip310)\" style=\"stroke:#000000; stroke-linecap:round; stroke-linejoin:round; stroke-width:4; stroke-opacity:1; fill:none\" points=\"199.283,1446.83 218.181,1446.83 \"/>\n",
       "<polyline clip-path=\"url(#clip310)\" style=\"stroke:#000000; stroke-linecap:round; stroke-linejoin:round; stroke-width:4; stroke-opacity:1; fill:none\" points=\"199.283,1225.02 218.181,1225.02 \"/>\n",
       "<polyline clip-path=\"url(#clip310)\" style=\"stroke:#000000; stroke-linecap:round; stroke-linejoin:round; stroke-width:4; stroke-opacity:1; fill:none\" points=\"199.283,1003.21 218.181,1003.21 \"/>\n",
       "<polyline clip-path=\"url(#clip310)\" style=\"stroke:#000000; stroke-linecap:round; stroke-linejoin:round; stroke-width:4; stroke-opacity:1; fill:none\" points=\"199.283,781.404 218.181,781.404 \"/>\n",
       "<polyline clip-path=\"url(#clip310)\" style=\"stroke:#000000; stroke-linecap:round; stroke-linejoin:round; stroke-width:4; stroke-opacity:1; fill:none\" points=\"199.283,559.597 218.181,559.597 \"/>\n",
       "<polyline clip-path=\"url(#clip310)\" style=\"stroke:#000000; stroke-linecap:round; stroke-linejoin:round; stroke-width:4; stroke-opacity:1; fill:none\" points=\"199.283,337.789 218.181,337.789 \"/>\n",
       "<polyline clip-path=\"url(#clip310)\" style=\"stroke:#000000; stroke-linecap:round; stroke-linejoin:round; stroke-width:4; stroke-opacity:1; fill:none\" points=\"199.283,115.982 218.181,115.982 \"/>\n",
       "<path clip-path=\"url(#clip310)\" d=\"M151.339 1432.62 Q147.728 1432.62 145.899 1436.19 Q144.093 1439.73 144.093 1446.86 Q144.093 1453.97 145.899 1457.53 Q147.728 1461.07 151.339 1461.07 Q154.973 1461.07 156.779 1457.53 Q158.607 1453.97 158.607 1446.86 Q158.607 1439.73 156.779 1436.19 Q154.973 1432.62 151.339 1432.62 M151.339 1428.92 Q157.149 1428.92 160.205 1433.53 Q163.283 1438.11 163.283 1446.86 Q163.283 1455.59 160.205 1460.19 Q157.149 1464.78 151.339 1464.78 Q145.529 1464.78 142.45 1460.19 Q139.394 1455.59 139.394 1446.86 Q139.394 1438.11 142.45 1433.53 Q145.529 1428.92 151.339 1428.92 Z\" fill=\"#000000\" fill-rule=\"nonzero\" fill-opacity=\"1\" /><path clip-path=\"url(#clip310)\" d=\"M85.0429 1238.36 L101.362 1238.36 L101.362 1242.3 L79.4179 1242.3 L79.4179 1238.36 Q82.0799 1235.61 86.6632 1230.98 Q91.2697 1226.33 92.4502 1224.98 Q94.6956 1222.46 95.5752 1220.72 Q96.478 1218.96 96.478 1217.27 Q96.478 1214.52 94.5336 1212.78 Q92.6123 1211.05 89.5104 1211.05 Q87.3114 1211.05 84.8577 1211.81 Q82.4271 1212.58 79.6494 1214.13 L79.6494 1209.4 Q82.4734 1208.27 84.9271 1207.69 Q87.3808 1207.11 89.4178 1207.11 Q94.7882 1207.11 97.9826 1209.8 Q101.177 1212.48 101.177 1216.97 Q101.177 1219.1 100.367 1221.02 Q99.5798 1222.92 97.4734 1225.52 Q96.8947 1226.19 93.7928 1229.4 Q90.691 1232.6 85.0429 1238.36 Z\" fill=\"#000000\" fill-rule=\"nonzero\" fill-opacity=\"1\" /><path clip-path=\"url(#clip310)\" d=\"M121.177 1210.82 Q117.566 1210.82 115.737 1214.38 Q113.932 1217.92 113.932 1225.05 Q113.932 1232.16 115.737 1235.72 Q117.566 1239.27 121.177 1239.27 Q124.811 1239.27 126.617 1235.72 Q128.445 1232.16 128.445 1225.05 Q128.445 1217.92 126.617 1214.38 Q124.811 1210.82 121.177 1210.82 M121.177 1207.11 Q126.987 1207.11 130.043 1211.72 Q133.121 1216.3 133.121 1225.05 Q133.121 1233.78 130.043 1238.39 Q126.987 1242.97 121.177 1242.97 Q115.367 1242.97 112.288 1238.39 Q109.233 1233.78 109.233 1225.05 Q109.233 1216.3 112.288 1211.72 Q115.367 1207.11 121.177 1207.11 Z\" fill=\"#000000\" fill-rule=\"nonzero\" fill-opacity=\"1\" /><path clip-path=\"url(#clip310)\" d=\"M151.339 1210.82 Q147.728 1210.82 145.899 1214.38 Q144.093 1217.92 144.093 1225.05 Q144.093 1232.16 145.899 1235.72 Q147.728 1239.27 151.339 1239.27 Q154.973 1239.27 156.779 1235.72 Q158.607 1232.16 158.607 1225.05 Q158.607 1217.92 156.779 1214.38 Q154.973 1210.82 151.339 1210.82 M151.339 1207.11 Q157.149 1207.11 160.205 1211.72 Q163.283 1216.3 163.283 1225.05 Q163.283 1233.78 160.205 1238.39 Q157.149 1242.97 151.339 1242.97 Q145.529 1242.97 142.45 1238.39 Q139.394 1233.78 139.394 1225.05 Q139.394 1216.3 142.45 1211.72 Q145.529 1207.11 151.339 1207.11 Z\" fill=\"#000000\" fill-rule=\"nonzero\" fill-opacity=\"1\" /><path clip-path=\"url(#clip310)\" d=\"M93.8623 990.005 L82.0568 1008.45 L93.8623 1008.45 L93.8623 990.005 M92.6354 985.931 L98.515 985.931 L98.515 1008.45 L103.446 1008.45 L103.446 1012.34 L98.515 1012.34 L98.515 1020.49 L93.8623 1020.49 L93.8623 1012.34 L78.2605 1012.34 L78.2605 1007.83 L92.6354 985.931 Z\" fill=\"#000000\" fill-rule=\"nonzero\" fill-opacity=\"1\" /><path clip-path=\"url(#clip310)\" d=\"M121.177 989.009 Q117.566 989.009 115.737 992.574 Q113.932 996.116 113.932 1003.25 Q113.932 1010.35 115.737 1013.92 Q117.566 1017.46 121.177 1017.46 Q124.811 1017.46 126.617 1013.92 Q128.445 1010.35 128.445 1003.25 Q128.445 996.116 126.617 992.574 Q124.811 989.009 121.177 989.009 M121.177 985.306 Q126.987 985.306 130.043 989.912 Q133.121 994.496 133.121 1003.25 Q133.121 1011.97 130.043 1016.58 Q126.987 1021.16 121.177 1021.16 Q115.367 1021.16 112.288 1016.58 Q109.233 1011.97 109.233 1003.25 Q109.233 994.496 112.288 989.912 Q115.367 985.306 121.177 985.306 Z\" fill=\"#000000\" fill-rule=\"nonzero\" fill-opacity=\"1\" /><path clip-path=\"url(#clip310)\" d=\"M151.339 989.009 Q147.728 989.009 145.899 992.574 Q144.093 996.116 144.093 1003.25 Q144.093 1010.35 145.899 1013.92 Q147.728 1017.46 151.339 1017.46 Q154.973 1017.46 156.779 1013.92 Q158.607 1010.35 158.607 1003.25 Q158.607 996.116 156.779 992.574 Q154.973 989.009 151.339 989.009 M151.339 985.306 Q157.149 985.306 160.205 989.912 Q163.283 994.496 163.283 1003.25 Q163.283 1011.97 160.205 1016.58 Q157.149 1021.16 151.339 1021.16 Q145.529 1021.16 142.45 1016.58 Q139.394 1011.97 139.394 1003.25 Q139.394 994.496 142.45 989.912 Q145.529 985.306 151.339 985.306 Z\" fill=\"#000000\" fill-rule=\"nonzero\" fill-opacity=\"1\" /><path clip-path=\"url(#clip310)\" d=\"M91.5938 779.54 Q88.4456 779.54 86.5938 781.693 Q84.7651 783.846 84.7651 787.596 Q84.7651 791.323 86.5938 793.499 Q88.4456 795.651 91.5938 795.651 Q94.7419 795.651 96.5706 793.499 Q98.4224 791.323 98.4224 787.596 Q98.4224 783.846 96.5706 781.693 Q94.7419 779.54 91.5938 779.54 M100.876 764.888 L100.876 769.147 Q99.1169 768.313 97.3113 767.874 Q95.5289 767.434 93.7697 767.434 Q89.1401 767.434 86.6864 770.559 Q84.2558 773.684 83.9086 780.003 Q85.2743 777.989 87.3345 776.925 Q89.3947 775.837 91.8715 775.837 Q97.0798 775.837 100.089 779.008 Q103.121 782.156 103.121 787.596 Q103.121 792.92 99.9733 796.137 Q96.8252 799.355 91.5938 799.355 Q85.5984 799.355 82.4271 794.772 Q79.2559 790.165 79.2559 781.438 Q79.2559 773.244 83.1447 768.383 Q87.0336 763.499 93.5845 763.499 Q95.3437 763.499 97.1261 763.846 Q98.9317 764.193 100.876 764.888 Z\" fill=\"#000000\" fill-rule=\"nonzero\" fill-opacity=\"1\" /><path clip-path=\"url(#clip310)\" d=\"M121.177 767.202 Q117.566 767.202 115.737 770.767 Q113.932 774.309 113.932 781.438 Q113.932 788.545 115.737 792.11 Q117.566 795.651 121.177 795.651 Q124.811 795.651 126.617 792.11 Q128.445 788.545 128.445 781.438 Q128.445 774.309 126.617 770.767 Q124.811 767.202 121.177 767.202 M121.177 763.499 Q126.987 763.499 130.043 768.105 Q133.121 772.688 133.121 781.438 Q133.121 790.165 130.043 794.772 Q126.987 799.355 121.177 799.355 Q115.367 799.355 112.288 794.772 Q109.233 790.165 109.233 781.438 Q109.233 772.688 112.288 768.105 Q115.367 763.499 121.177 763.499 Z\" fill=\"#000000\" fill-rule=\"nonzero\" fill-opacity=\"1\" /><path clip-path=\"url(#clip310)\" d=\"M151.339 767.202 Q147.728 767.202 145.899 770.767 Q144.093 774.309 144.093 781.438 Q144.093 788.545 145.899 792.11 Q147.728 795.651 151.339 795.651 Q154.973 795.651 156.779 792.11 Q158.607 788.545 158.607 781.438 Q158.607 774.309 156.779 770.767 Q154.973 767.202 151.339 767.202 M151.339 763.499 Q157.149 763.499 160.205 768.105 Q163.283 772.688 163.283 781.438 Q163.283 790.165 160.205 794.772 Q157.149 799.355 151.339 799.355 Q145.529 799.355 142.45 794.772 Q139.394 790.165 139.394 781.438 Q139.394 772.688 142.45 768.105 Q145.529 763.499 151.339 763.499 Z\" fill=\"#000000\" fill-rule=\"nonzero\" fill-opacity=\"1\" /><path clip-path=\"url(#clip310)\" d=\"M91.0151 560.465 Q87.6817 560.465 85.7605 562.247 Q83.8623 564.029 83.8623 567.154 Q83.8623 570.279 85.7605 572.062 Q87.6817 573.844 91.0151 573.844 Q94.3484 573.844 96.2697 572.062 Q98.1909 570.256 98.1909 567.154 Q98.1909 564.029 96.2697 562.247 Q94.3715 560.465 91.0151 560.465 M86.3392 558.474 Q83.3299 557.733 81.6401 555.673 Q79.9735 553.613 79.9735 550.65 Q79.9735 546.506 82.9133 544.099 Q85.8762 541.692 91.0151 541.692 Q96.1771 541.692 99.1169 544.099 Q102.057 546.506 102.057 550.65 Q102.057 553.613 100.367 555.673 Q98.7002 557.733 95.7141 558.474 Q99.0937 559.261 100.969 561.553 Q102.867 563.844 102.867 567.154 Q102.867 572.177 99.7882 574.863 Q96.7326 577.548 91.0151 577.548 Q85.2975 577.548 82.2188 574.863 Q79.1633 572.177 79.1633 567.154 Q79.1633 563.844 81.0614 561.553 Q82.9595 559.261 86.3392 558.474 M84.6262 551.09 Q84.6262 553.775 86.2929 555.279 Q87.9827 556.784 91.0151 556.784 Q94.0243 556.784 95.7141 555.279 Q97.4271 553.775 97.4271 551.09 Q97.4271 548.404 95.7141 546.9 Q94.0243 545.395 91.0151 545.395 Q87.9827 545.395 86.2929 546.9 Q84.6262 548.404 84.6262 551.09 Z\" fill=\"#000000\" fill-rule=\"nonzero\" fill-opacity=\"1\" /><path clip-path=\"url(#clip310)\" d=\"M121.177 545.395 Q117.566 545.395 115.737 548.96 Q113.932 552.502 113.932 559.631 Q113.932 566.738 115.737 570.302 Q117.566 573.844 121.177 573.844 Q124.811 573.844 126.617 570.302 Q128.445 566.738 128.445 559.631 Q128.445 552.502 126.617 548.96 Q124.811 545.395 121.177 545.395 M121.177 541.692 Q126.987 541.692 130.043 546.298 Q133.121 550.881 133.121 559.631 Q133.121 568.358 130.043 572.965 Q126.987 577.548 121.177 577.548 Q115.367 577.548 112.288 572.965 Q109.233 568.358 109.233 559.631 Q109.233 550.881 112.288 546.298 Q115.367 541.692 121.177 541.692 Z\" fill=\"#000000\" fill-rule=\"nonzero\" fill-opacity=\"1\" /><path clip-path=\"url(#clip310)\" d=\"M151.339 545.395 Q147.728 545.395 145.899 548.96 Q144.093 552.502 144.093 559.631 Q144.093 566.738 145.899 570.302 Q147.728 573.844 151.339 573.844 Q154.973 573.844 156.779 570.302 Q158.607 566.738 158.607 559.631 Q158.607 552.502 156.779 548.96 Q154.973 545.395 151.339 545.395 M151.339 541.692 Q157.149 541.692 160.205 546.298 Q163.283 550.881 163.283 559.631 Q163.283 568.358 160.205 572.965 Q157.149 577.548 151.339 577.548 Q145.529 577.548 142.45 572.965 Q139.394 568.358 139.394 559.631 Q139.394 550.881 142.45 546.298 Q145.529 541.692 151.339 541.692 Z\" fill=\"#000000\" fill-rule=\"nonzero\" fill-opacity=\"1\" /><path clip-path=\"url(#clip310)\" d=\"M51.6634 351.134 L59.3023 351.134 L59.3023 324.769 L50.9921 326.435 L50.9921 322.176 L59.256 320.509 L63.9319 320.509 L63.9319 351.134 L71.5707 351.134 L71.5707 355.069 L51.6634 355.069 L51.6634 351.134 Z\" fill=\"#000000\" fill-rule=\"nonzero\" fill-opacity=\"1\" /><path clip-path=\"url(#clip310)\" d=\"M91.0151 323.588 Q87.404 323.588 85.5753 327.153 Q83.7697 330.695 83.7697 337.824 Q83.7697 344.931 85.5753 348.495 Q87.404 352.037 91.0151 352.037 Q94.6493 352.037 96.4548 348.495 Q98.2835 344.931 98.2835 337.824 Q98.2835 330.695 96.4548 327.153 Q94.6493 323.588 91.0151 323.588 M91.0151 319.884 Q96.8252 319.884 99.8808 324.491 Q102.959 329.074 102.959 337.824 Q102.959 346.551 99.8808 351.157 Q96.8252 355.741 91.0151 355.741 Q85.2049 355.741 82.1262 351.157 Q79.0707 346.551 79.0707 337.824 Q79.0707 329.074 82.1262 324.491 Q85.2049 319.884 91.0151 319.884 Z\" fill=\"#000000\" fill-rule=\"nonzero\" fill-opacity=\"1\" /><path clip-path=\"url(#clip310)\" d=\"M121.177 323.588 Q117.566 323.588 115.737 327.153 Q113.932 330.695 113.932 337.824 Q113.932 344.931 115.737 348.495 Q117.566 352.037 121.177 352.037 Q124.811 352.037 126.617 348.495 Q128.445 344.931 128.445 337.824 Q128.445 330.695 126.617 327.153 Q124.811 323.588 121.177 323.588 M121.177 319.884 Q126.987 319.884 130.043 324.491 Q133.121 329.074 133.121 337.824 Q133.121 346.551 130.043 351.157 Q126.987 355.741 121.177 355.741 Q115.367 355.741 112.288 351.157 Q109.233 346.551 109.233 337.824 Q109.233 329.074 112.288 324.491 Q115.367 319.884 121.177 319.884 Z\" fill=\"#000000\" fill-rule=\"nonzero\" fill-opacity=\"1\" /><path clip-path=\"url(#clip310)\" d=\"M151.339 323.588 Q147.728 323.588 145.899 327.153 Q144.093 330.695 144.093 337.824 Q144.093 344.931 145.899 348.495 Q147.728 352.037 151.339 352.037 Q154.973 352.037 156.779 348.495 Q158.607 344.931 158.607 337.824 Q158.607 330.695 156.779 327.153 Q154.973 323.588 151.339 323.588 M151.339 319.884 Q157.149 319.884 160.205 324.491 Q163.283 329.074 163.283 337.824 Q163.283 346.551 160.205 351.157 Q157.149 355.741 151.339 355.741 Q145.529 355.741 142.45 351.157 Q139.394 346.551 139.394 337.824 Q139.394 329.074 142.45 324.491 Q145.529 319.884 151.339 319.884 Z\" fill=\"#000000\" fill-rule=\"nonzero\" fill-opacity=\"1\" /><path clip-path=\"url(#clip310)\" d=\"M51.6634 129.327 L59.3023 129.327 L59.3023 102.962 L50.9921 104.628 L50.9921 100.369 L59.256 98.7023 L63.9319 98.7023 L63.9319 129.327 L71.5707 129.327 L71.5707 133.262 L51.6634 133.262 L51.6634 129.327 Z\" fill=\"#000000\" fill-rule=\"nonzero\" fill-opacity=\"1\" /><path clip-path=\"url(#clip310)\" d=\"M85.0429 129.327 L101.362 129.327 L101.362 133.262 L79.4179 133.262 L79.4179 129.327 Q82.0799 126.572 86.6632 121.943 Q91.2697 117.29 92.4502 115.948 Q94.6956 113.424 95.5752 111.688 Q96.478 109.929 96.478 108.239 Q96.478 105.485 94.5336 103.749 Q92.6123 102.012 89.5104 102.012 Q87.3114 102.012 84.8577 102.776 Q82.4271 103.54 79.6494 105.091 L79.6494 100.369 Q82.4734 99.2347 84.9271 98.656 Q87.3808 98.0773 89.4178 98.0773 Q94.7882 98.0773 97.9826 100.762 Q101.177 103.448 101.177 107.938 Q101.177 110.068 100.367 111.989 Q99.5798 113.887 97.4734 116.48 Q96.8947 117.151 93.7928 120.369 Q90.691 123.563 85.0429 129.327 Z\" fill=\"#000000\" fill-rule=\"nonzero\" fill-opacity=\"1\" /><path clip-path=\"url(#clip310)\" d=\"M121.177 101.781 Q117.566 101.781 115.737 105.346 Q113.932 108.887 113.932 116.017 Q113.932 123.123 115.737 126.688 Q117.566 130.23 121.177 130.23 Q124.811 130.23 126.617 126.688 Q128.445 123.123 128.445 116.017 Q128.445 108.887 126.617 105.346 Q124.811 101.781 121.177 101.781 M121.177 98.0773 Q126.987 98.0773 130.043 102.684 Q133.121 107.267 133.121 116.017 Q133.121 124.744 130.043 129.35 Q126.987 133.934 121.177 133.934 Q115.367 133.934 112.288 129.35 Q109.233 124.744 109.233 116.017 Q109.233 107.267 112.288 102.684 Q115.367 98.0773 121.177 98.0773 Z\" fill=\"#000000\" fill-rule=\"nonzero\" fill-opacity=\"1\" /><path clip-path=\"url(#clip310)\" d=\"M151.339 101.781 Q147.728 101.781 145.899 105.346 Q144.093 108.887 144.093 116.017 Q144.093 123.123 145.899 126.688 Q147.728 130.23 151.339 130.23 Q154.973 130.23 156.779 126.688 Q158.607 123.123 158.607 116.017 Q158.607 108.887 156.779 105.346 Q154.973 101.781 151.339 101.781 M151.339 98.0773 Q157.149 98.0773 160.205 102.684 Q163.283 107.267 163.283 116.017 Q163.283 124.744 160.205 129.35 Q157.149 133.934 151.339 133.934 Q145.529 133.934 142.45 129.35 Q139.394 124.744 139.394 116.017 Q139.394 107.267 142.45 102.684 Q145.529 98.0773 151.339 98.0773 Z\" fill=\"#000000\" fill-rule=\"nonzero\" fill-opacity=\"1\" /><polyline clip-path=\"url(#clip312)\" style=\"stroke:#009af9; stroke-linecap:round; stroke-linejoin:round; stroke-width:4; stroke-opacity:1; fill:none\" points=\"280.752,87.9763 301.273,1107 321.794,1295.71 342.314,1361.76 362.835,1392.32 383.356,1408.93 403.877,1418.94 424.398,1425.43 444.919,1429.88 465.44,1433.07 485.961,1435.42 506.482,1437.21 527.003,1438.6 547.524,1439.7 568.045,1440.59 588.566,1441.32 609.087,1441.92 629.608,1442.42 650.129,1442.85 670.65,1443.21 691.171,1443.52 711.692,1443.79 732.213,1444.02 752.734,1444.22 773.255,1444.4 793.776,1444.56 814.297,1444.7 834.818,1444.82 855.339,1444.93 875.86,1445.03 896.381,1445.12 916.902,1445.2 937.423,1445.27 957.944,1445.33 978.465,1445.38 998.986,1445.43 1019.51,1445.48 1040.03,1445.52 1060.55,1445.55 1081.07,1445.59 1101.59,1445.61 1122.11,1445.64 1142.63,1445.66 1163.15,1445.67 1183.68,1445.69 1204.2,1445.7 1224.72,1445.71 1245.24,1445.71 1265.76,1445.72 1286.28,1445.72 1306.8,1445.71 1327.32,1445.71 1347.84,1445.7 1368.36,1445.69 1388.88,1445.67 1409.41,1445.66 1429.93,1445.64 1450.45,1445.61 1470.97,1445.59 1491.49,1445.55 1512.01,1445.52 1532.53,1445.48 1553.05,1445.43 1573.57,1445.38 1594.09,1445.33 1614.62,1445.27 1635.14,1445.2 1655.66,1445.12 1676.18,1445.03 1696.7,1444.93 1717.22,1444.82 1737.74,1444.7 1758.26,1444.56 1778.78,1444.4 1799.3,1444.22 1819.83,1444.02 1840.35,1443.79 1860.87,1443.52 1881.39,1443.21 1901.91,1442.85 1922.43,1442.42 1942.95,1441.92 1963.47,1441.32 1983.99,1440.59 2004.51,1439.7 2025.04,1438.6 2045.56,1437.21 2066.08,1435.42 2086.6,1433.07 2107.12,1429.88 2127.64,1425.43 2148.16,1418.94 2168.68,1408.93 2189.2,1392.32 2209.72,1361.76 2230.25,1295.71 2250.77,1107 2271.29,87.9763 \"/>\n",
       "<path clip-path=\"url(#clip310)\" d=\"M2013.2 198.898 L2280.97 198.898 L2280.97 95.2176 L2013.2 95.2176  Z\" fill=\"#ffffff\" fill-rule=\"evenodd\" fill-opacity=\"1\"/>\n",
       "<polyline clip-path=\"url(#clip310)\" style=\"stroke:#000000; stroke-linecap:round; stroke-linejoin:round; stroke-width:4; stroke-opacity:1; fill:none\" points=\"2013.2,198.898 2280.97,198.898 2280.97,95.2176 2013.2,95.2176 2013.2,198.898 \"/>\n",
       "<polyline clip-path=\"url(#clip310)\" style=\"stroke:#009af9; stroke-linecap:round; stroke-linejoin:round; stroke-width:4; stroke-opacity:1; fill:none\" points=\"2037.12,147.058 2180.69,147.058 \"/>\n",
       "<path clip-path=\"url(#clip310)\" d=\"M2218.46 166.745 Q2216.65 171.375 2214.94 172.787 Q2213.23 174.199 2210.36 174.199 L2206.95 174.199 L2206.95 170.634 L2209.45 170.634 Q2211.21 170.634 2212.19 169.8 Q2213.16 168.967 2214.34 165.865 L2215.1 163.921 L2204.62 138.412 L2209.13 138.412 L2217.23 158.689 L2225.33 138.412 L2229.85 138.412 L2218.46 166.745 Z\" fill=\"#000000\" fill-rule=\"nonzero\" fill-opacity=\"1\" /><path clip-path=\"url(#clip310)\" d=\"M2237.14 160.402 L2244.78 160.402 L2244.78 134.037 L2236.47 135.703 L2236.47 131.444 L2244.73 129.778 L2249.41 129.778 L2249.41 160.402 L2257.05 160.402 L2257.05 164.338 L2237.14 164.338 L2237.14 160.402 Z\" fill=\"#000000\" fill-rule=\"nonzero\" fill-opacity=\"1\" /></svg>\n"
      ]
     },
     "metadata": {},
     "output_type": "display_data"
    }
   ],
   "source": [
    "using Plots\n",
    "r = range(-1.0, 1.0, length=100)\n",
    "step = 2.0/(N-1)\n",
    "# map (-1, 1) to (-Inf, Inf)\n",
    "xvf = r -> r/(1-r^2)\n",
    "xwf = r -> (1+r^2)/(1-r^2)^2\n",
    "\n",
    "plot(r, map( xvf, r ))\n",
    "plot(r, map( xwf, r ))"
   ]
  },
  {
   "cell_type": "code",
   "execution_count": 7,
   "metadata": {},
   "outputs": [
    {
     "name": "stdout",
     "output_type": "stream",
     "text": [
      "[1.7724538509312786, 1.7724538509055159]\n"
     ]
    }
   ],
   "source": [
    "# 1D Gaussian\n",
    "\n",
    "N = 100\n",
    "rv = range(-1.0, 1.0, length=N)\n",
    "dr = 2.0/(N-1)\n",
    "\n",
    "# map (-1, 1) to (-Inf, Inf)\n",
    "xvf = r -> r/(1-r^2)\n",
    "xwf = r -> (1+r^2)/(1-r^2)^2\n",
    "\n",
    "f = x -> exp(-x^2)\n",
    "\n",
    "ret = 0.0\n",
    "\n",
    "for rr in rv[1:N-1]\n",
    "    #println(rr+dr/2,\"\\t\", xwf(rr+dr/2), \"\\t\", xvf(rr+dr/2))\n",
    "    ret += dr * xwf(rr+dr/2) * f(xvf(rr+dr/2))\n",
    "end\n",
    "\n",
    "println([ret, sqrt(pi)])"
   ]
  },
  {
   "cell_type": "code",
   "execution_count": null,
   "metadata": {},
   "outputs": [],
   "source": [
    "A = 1 # global parameter\n",
    "f = x -> exp(-A*(x^2))\n",
    "simpson_req(f, A, a, b, TOL) \n",
    "d_x_b = simpson_req(x -> f(x)*x*f(x), A, -2^8, 2^8L) \n",
    "println(\"<x> =\", d_x_b)\n",
    "\n",
    "d_xx_b = simpson_req(x -> f(x)*x*x*f(x), A, -2^8, 2^8L) \n",
    "println(\"<x^2> =\", d_xx_b)\n",
    "\n",
    "\n",
    "# one of the derivative methods described in lecture\n",
    "function derivative_1ord(f, x0, dx=2^(-8)):\n",
    "    return 1/12/dx * \\\n",
    "        (-f(x0+dx+dx)\n",
    "         -8*f(x0-dx)\n",
    "         +8*f(x0+dx)\n",
    "         +f(x0-dx-dx))\n",
    "end\n",
    "\n",
    "p = x -> -1im*derivative_1ord((x -> f(x)), x)\n",
    "d_p_b = simpson_req(x -> f(x)*p(x), -2**8, 2**8,)\n",
    "println(\"<p> =\", d_p_b.real, d_p_b.imag)\n",
    "\n",
    "function derivative_2ord(f, x0, dx=2**(-8)):\n",
    "    return (f(x0 + dx) - 2*f(x0) + f(x0 - dx))/dx/dx\n",
    "end\n",
    "\n",
    "pp = x -> -derivative_2ord((x -> f(x)), x)\n",
    "d_pp_b = integrate_fav(lambda x : f(x)*pp(x), -2**8, 2**8)\n",
    "print(\"<p^2> =\", d_pp_b)"
   ]
  },
  {
   "cell_type": "code",
   "execution_count": null,
   "metadata": {},
   "outputs": [],
   "source": [
    "(d_pp_b - d_p_b^2) * (d_xx_b - d_x_b^2)"
   ]
  }
 ],
 "metadata": {
  "kernelspec": {
   "display_name": "Julia 1.11.0",
   "language": "julia",
   "name": "julia-1.11"
  },
  "language_info": {
   "file_extension": ".jl",
   "mimetype": "application/julia",
   "name": "julia",
   "version": "1.11.0"
  },
  "polyglot_notebook": {
   "kernelInfo": {
    "defaultKernelName": "csharp",
    "items": [
     {
      "aliases": [],
      "name": "csharp"
     }
    ]
   }
  }
 },
 "nbformat": 4,
 "nbformat_minor": 2
}
